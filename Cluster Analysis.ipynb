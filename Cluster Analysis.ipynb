{
 "cells": [
  {
   "cell_type": "markdown",
   "metadata": {},
   "source": [
    "# Customer Segmentation using RFM Analysis & Clustering"
   ]
  },
  {
   "cell_type": "markdown",
   "metadata": {},
   "source": [
    "## Problem Statement\n",
    "### The core objective of this project is to identify different segments of customers based on their purchasing behavior using RFM (Recency, Frequency, Monetary) analysis. This segmentation will help understand the value each customer brings and allow for better targeting strategies for sales and marketing."
   ]
  },
  {
   "cell_type": "code",
   "execution_count": null,
   "metadata": {},
   "outputs": [],
   "source": []
  },
  {
   "cell_type": "markdown",
   "metadata": {},
   "source": [
    "## Dataset Details"
   ]
  },
  {
   "cell_type": "markdown",
   "metadata": {},
   "source": [
    "### Tables used:\n",
    "\n",
    "### [Sales].[OrderItem]\n",
    "\n",
    "### [Sales].[Order]\n",
    "\n",
    "### [Production].[Product]"
   ]
  },
  {
   "cell_type": "code",
   "execution_count": null,
   "metadata": {},
   "outputs": [],
   "source": [
    "# Suppress Warnings\n",
    "import warnings \n",
    "from warnings import filterwarnings\n",
    "filterwarnings(\"ignore\")"
   ]
  },
  {
   "cell_type": "code",
   "execution_count": null,
   "metadata": {},
   "outputs": [],
   "source": [
    "server = 'DESKTOP-T93UL8P\\SQLEXPRESS'  # Use 'localhost', '.' or '127.0.0.1' for a local instance\n",
    "database = 'BikeStores'  \n",
    "driver = 'ODBC Driver 17 for SQL Server' "
   ]
  },
  {
   "cell_type": "code",
   "execution_count": 4,
   "metadata": {},
   "outputs": [],
   "source": [
    "conn_str = f'DRIVER={driver};SERVER={server};DATABASE={database};Trusted_Connection=yes;'"
   ]
  },
  {
   "cell_type": "code",
   "execution_count": null,
   "metadata": {},
   "outputs": [
    {
     "name": "stdout",
     "output_type": "stream",
     "text": [
      "Connection successful!\n",
      "        OrderID  ItemID  ProductID  Quantity  ListPrice  Discount   LineTotal\n",
      "0             1       1         38         3     549.99      0.05   1567.4715\n",
      "1             2       1        101         3     339.99      0.07    948.5721\n",
      "2             2       2          5         3    1320.99      0.07   3685.5621\n",
      "3             2       3         37         1     379.99      0.07    353.3907\n",
      "4             3       1         14         3     269.99      0.07    753.2721\n",
      "...         ...     ...        ...       ...        ...       ...         ...\n",
      "368683   126191       1         28         5    2499.99      0.05  11874.9525\n",
      "368684   126191       2        104         5     481.99      0.05   2289.4525\n",
      "368685   126192       1         27         5     999.99      0.07   4649.9535\n",
      "368686   126192       2         20         4     599.99      0.05   2279.9620\n",
      "368687   126192       3         70         4     659.99      0.05   2507.9620\n",
      "\n",
      "[368688 rows x 7 columns]\n"
     ]
    }
   ],
   "source": [
    "# Fetch Order Item Table\n",
    "conn = pyodbc.connect(conn_str)\n",
    "print(\"Connection successful!\")\n",
    "\n",
    "query = \"SELECT * FROM [Sales].[OrderItem] \"  \n",
    "sales_order_item = pd.read_sql(query, conn)\n",
    "print(sales_order_item);\n"
   ]
  },
  {
   "cell_type": "code",
   "execution_count": 6,
   "metadata": {},
   "outputs": [
    {
     "data": {
      "text/html": [
       "<div>\n",
       "<style scoped>\n",
       "    .dataframe tbody tr th:only-of-type {\n",
       "        vertical-align: middle;\n",
       "    }\n",
       "\n",
       "    .dataframe tbody tr th {\n",
       "        vertical-align: top;\n",
       "    }\n",
       "\n",
       "    .dataframe thead th {\n",
       "        text-align: right;\n",
       "    }\n",
       "</style>\n",
       "<table border=\"1\" class=\"dataframe\">\n",
       "  <thead>\n",
       "    <tr style=\"text-align: right;\">\n",
       "      <th></th>\n",
       "      <th>OrderID</th>\n",
       "      <th>ItemID</th>\n",
       "      <th>ProductID</th>\n",
       "      <th>Quantity</th>\n",
       "      <th>ListPrice</th>\n",
       "      <th>Discount</th>\n",
       "      <th>LineTotal</th>\n",
       "    </tr>\n",
       "  </thead>\n",
       "  <tbody>\n",
       "    <tr>\n",
       "      <th>0</th>\n",
       "      <td>1</td>\n",
       "      <td>1</td>\n",
       "      <td>38</td>\n",
       "      <td>3</td>\n",
       "      <td>549.99</td>\n",
       "      <td>0.05</td>\n",
       "      <td>1567.4715</td>\n",
       "    </tr>\n",
       "    <tr>\n",
       "      <th>1</th>\n",
       "      <td>2</td>\n",
       "      <td>1</td>\n",
       "      <td>101</td>\n",
       "      <td>3</td>\n",
       "      <td>339.99</td>\n",
       "      <td>0.07</td>\n",
       "      <td>948.5721</td>\n",
       "    </tr>\n",
       "    <tr>\n",
       "      <th>2</th>\n",
       "      <td>2</td>\n",
       "      <td>2</td>\n",
       "      <td>5</td>\n",
       "      <td>3</td>\n",
       "      <td>1320.99</td>\n",
       "      <td>0.07</td>\n",
       "      <td>3685.5621</td>\n",
       "    </tr>\n",
       "    <tr>\n",
       "      <th>3</th>\n",
       "      <td>2</td>\n",
       "      <td>3</td>\n",
       "      <td>37</td>\n",
       "      <td>1</td>\n",
       "      <td>379.99</td>\n",
       "      <td>0.07</td>\n",
       "      <td>353.3907</td>\n",
       "    </tr>\n",
       "    <tr>\n",
       "      <th>4</th>\n",
       "      <td>3</td>\n",
       "      <td>1</td>\n",
       "      <td>14</td>\n",
       "      <td>3</td>\n",
       "      <td>269.99</td>\n",
       "      <td>0.07</td>\n",
       "      <td>753.2721</td>\n",
       "    </tr>\n",
       "  </tbody>\n",
       "</table>\n",
       "</div>"
      ],
      "text/plain": [
       "   OrderID  ItemID  ProductID  Quantity  ListPrice  Discount  LineTotal\n",
       "0        1       1         38         3     549.99      0.05  1567.4715\n",
       "1        2       1        101         3     339.99      0.07   948.5721\n",
       "2        2       2          5         3    1320.99      0.07  3685.5621\n",
       "3        2       3         37         1     379.99      0.07   353.3907\n",
       "4        3       1         14         3     269.99      0.07   753.2721"
      ]
     },
     "execution_count": 6,
     "metadata": {},
     "output_type": "execute_result"
    }
   ],
   "source": [
    "sales_order_item.head()"
   ]
  },
  {
   "cell_type": "code",
   "execution_count": null,
   "metadata": {},
   "outputs": [],
   "source": [
    "# Fetch Order Table\n",
    "query = \"SELECT * FROM [Sales].[Order]\" \n",
    "\n",
    "sales_order = pd.read_sql(query, conn)"
   ]
  },
  {
   "cell_type": "code",
   "execution_count": 8,
   "metadata": {},
   "outputs": [
    {
     "data": {
      "text/html": [
       "<div>\n",
       "<style scoped>\n",
       "    .dataframe tbody tr th:only-of-type {\n",
       "        vertical-align: middle;\n",
       "    }\n",
       "\n",
       "    .dataframe tbody tr th {\n",
       "        vertical-align: top;\n",
       "    }\n",
       "\n",
       "    .dataframe thead th {\n",
       "        text-align: right;\n",
       "    }\n",
       "</style>\n",
       "<table border=\"1\" class=\"dataframe\">\n",
       "  <thead>\n",
       "    <tr style=\"text-align: right;\">\n",
       "      <th></th>\n",
       "      <th>OrderID</th>\n",
       "      <th>CustomerID</th>\n",
       "      <th>Status</th>\n",
       "      <th>OrderDate</th>\n",
       "      <th>RequiredDate</th>\n",
       "      <th>ShippedDate</th>\n",
       "      <th>StoreID</th>\n",
       "      <th>EmployeeID</th>\n",
       "      <th>OrderTotal</th>\n",
       "    </tr>\n",
       "  </thead>\n",
       "  <tbody>\n",
       "    <tr>\n",
       "      <th>0</th>\n",
       "      <td>1</td>\n",
       "      <td>68</td>\n",
       "      <td>4</td>\n",
       "      <td>2009-01-01</td>\n",
       "      <td>2009-01-02</td>\n",
       "      <td>2009-01-03</td>\n",
       "      <td>3</td>\n",
       "      <td>8</td>\n",
       "      <td>1567.47</td>\n",
       "    </tr>\n",
       "    <tr>\n",
       "      <th>1</th>\n",
       "      <td>2</td>\n",
       "      <td>68</td>\n",
       "      <td>4</td>\n",
       "      <td>2009-01-01</td>\n",
       "      <td>2009-01-02</td>\n",
       "      <td>2009-01-03</td>\n",
       "      <td>3</td>\n",
       "      <td>8</td>\n",
       "      <td>4987.52</td>\n",
       "    </tr>\n",
       "    <tr>\n",
       "      <th>2</th>\n",
       "      <td>3</td>\n",
       "      <td>68</td>\n",
       "      <td>4</td>\n",
       "      <td>2009-01-01</td>\n",
       "      <td>2009-01-02</td>\n",
       "      <td>2009-01-03</td>\n",
       "      <td>3</td>\n",
       "      <td>8</td>\n",
       "      <td>3553.26</td>\n",
       "    </tr>\n",
       "    <tr>\n",
       "      <th>3</th>\n",
       "      <td>4</td>\n",
       "      <td>68</td>\n",
       "      <td>4</td>\n",
       "      <td>2009-01-01</td>\n",
       "      <td>2009-01-02</td>\n",
       "      <td>2009-01-03</td>\n",
       "      <td>3</td>\n",
       "      <td>8</td>\n",
       "      <td>10318.45</td>\n",
       "    </tr>\n",
       "    <tr>\n",
       "      <th>4</th>\n",
       "      <td>5</td>\n",
       "      <td>68</td>\n",
       "      <td>4</td>\n",
       "      <td>2009-01-01</td>\n",
       "      <td>2009-01-02</td>\n",
       "      <td>2009-01-03</td>\n",
       "      <td>3</td>\n",
       "      <td>8</td>\n",
       "      <td>13456.70</td>\n",
       "    </tr>\n",
       "    <tr>\n",
       "      <th>...</th>\n",
       "      <td>...</td>\n",
       "      <td>...</td>\n",
       "      <td>...</td>\n",
       "      <td>...</td>\n",
       "      <td>...</td>\n",
       "      <td>...</td>\n",
       "      <td>...</td>\n",
       "      <td>...</td>\n",
       "      <td>...</td>\n",
       "    </tr>\n",
       "    <tr>\n",
       "      <th>126187</th>\n",
       "      <td>126188</td>\n",
       "      <td>604</td>\n",
       "      <td>4</td>\n",
       "      <td>2019-12-27</td>\n",
       "      <td>2019-12-30</td>\n",
       "      <td>2019-12-30</td>\n",
       "      <td>2</td>\n",
       "      <td>6</td>\n",
       "      <td>3351.93</td>\n",
       "    </tr>\n",
       "    <tr>\n",
       "      <th>126188</th>\n",
       "      <td>126189</td>\n",
       "      <td>244</td>\n",
       "      <td>4</td>\n",
       "      <td>2019-12-28</td>\n",
       "      <td>2019-12-30</td>\n",
       "      <td>2019-12-29</td>\n",
       "      <td>1</td>\n",
       "      <td>3</td>\n",
       "      <td>3733.09</td>\n",
       "    </tr>\n",
       "    <tr>\n",
       "      <th>126189</th>\n",
       "      <td>126190</td>\n",
       "      <td>217</td>\n",
       "      <td>4</td>\n",
       "      <td>2019-12-30</td>\n",
       "      <td>2019-12-31</td>\n",
       "      <td>2019-12-31</td>\n",
       "      <td>1</td>\n",
       "      <td>3</td>\n",
       "      <td>10757.58</td>\n",
       "    </tr>\n",
       "    <tr>\n",
       "      <th>126190</th>\n",
       "      <td>126191</td>\n",
       "      <td>39</td>\n",
       "      <td>4</td>\n",
       "      <td>2019-12-31</td>\n",
       "      <td>2019-01-03</td>\n",
       "      <td>2019-01-02</td>\n",
       "      <td>2</td>\n",
       "      <td>7</td>\n",
       "      <td>14164.41</td>\n",
       "    </tr>\n",
       "    <tr>\n",
       "      <th>126191</th>\n",
       "      <td>126192</td>\n",
       "      <td>273</td>\n",
       "      <td>4</td>\n",
       "      <td>2019-12-31</td>\n",
       "      <td>2019-01-01</td>\n",
       "      <td>2019-01-01</td>\n",
       "      <td>2</td>\n",
       "      <td>6</td>\n",
       "      <td>9437.88</td>\n",
       "    </tr>\n",
       "  </tbody>\n",
       "</table>\n",
       "<p>126192 rows × 9 columns</p>\n",
       "</div>"
      ],
      "text/plain": [
       "        OrderID  CustomerID  Status   OrderDate RequiredDate ShippedDate  \\\n",
       "0             1          68       4  2009-01-01   2009-01-02  2009-01-03   \n",
       "1             2          68       4  2009-01-01   2009-01-02  2009-01-03   \n",
       "2             3          68       4  2009-01-01   2009-01-02  2009-01-03   \n",
       "3             4          68       4  2009-01-01   2009-01-02  2009-01-03   \n",
       "4             5          68       4  2009-01-01   2009-01-02  2009-01-03   \n",
       "...         ...         ...     ...         ...          ...         ...   \n",
       "126187   126188         604       4  2019-12-27   2019-12-30  2019-12-30   \n",
       "126188   126189         244       4  2019-12-28   2019-12-30  2019-12-29   \n",
       "126189   126190         217       4  2019-12-30   2019-12-31  2019-12-31   \n",
       "126190   126191          39       4  2019-12-31   2019-01-03  2019-01-02   \n",
       "126191   126192         273       4  2019-12-31   2019-01-01  2019-01-01   \n",
       "\n",
       "        StoreID  EmployeeID  OrderTotal  \n",
       "0             3           8     1567.47  \n",
       "1             3           8     4987.52  \n",
       "2             3           8     3553.26  \n",
       "3             3           8    10318.45  \n",
       "4             3           8    13456.70  \n",
       "...         ...         ...         ...  \n",
       "126187        2           6     3351.93  \n",
       "126188        1           3     3733.09  \n",
       "126189        1           3    10757.58  \n",
       "126190        2           7    14164.41  \n",
       "126191        2           6     9437.88  \n",
       "\n",
       "[126192 rows x 9 columns]"
      ]
     },
     "execution_count": 8,
     "metadata": {},
     "output_type": "execute_result"
    }
   ],
   "source": [
    "sales_order"
   ]
  },
  {
   "cell_type": "code",
   "execution_count": null,
   "metadata": {},
   "outputs": [],
   "source": [
    "# Fetch Product Table\n",
    "query = \"SELECT * FROM [Production].[Product]\"  \n",
    "\n",
    "Product_list = pd.read_sql(query, conn)"
   ]
  },
  {
   "cell_type": "code",
   "execution_count": 13,
   "metadata": {},
   "outputs": [
    {
     "data": {
      "text/html": [
       "<div>\n",
       "<style scoped>\n",
       "    .dataframe tbody tr th:only-of-type {\n",
       "        vertical-align: middle;\n",
       "    }\n",
       "\n",
       "    .dataframe tbody tr th {\n",
       "        vertical-align: top;\n",
       "    }\n",
       "\n",
       "    .dataframe thead th {\n",
       "        text-align: right;\n",
       "    }\n",
       "</style>\n",
       "<table border=\"1\" class=\"dataframe\">\n",
       "  <thead>\n",
       "    <tr style=\"text-align: right;\">\n",
       "      <th></th>\n",
       "      <th>ProductID</th>\n",
       "      <th>Name</th>\n",
       "      <th>BrandID</th>\n",
       "      <th>CategoryID</th>\n",
       "      <th>ModelYear</th>\n",
       "      <th>ListPrice</th>\n",
       "    </tr>\n",
       "  </thead>\n",
       "  <tbody>\n",
       "    <tr>\n",
       "      <th>0</th>\n",
       "      <td>1</td>\n",
       "      <td>Trek 820 - 2005</td>\n",
       "      <td>9</td>\n",
       "      <td>6</td>\n",
       "      <td>2005</td>\n",
       "      <td>379.99</td>\n",
       "    </tr>\n",
       "    <tr>\n",
       "      <th>1</th>\n",
       "      <td>2</td>\n",
       "      <td>Ritchey Timberwolf Frameset - 2005</td>\n",
       "      <td>5</td>\n",
       "      <td>6</td>\n",
       "      <td>2005</td>\n",
       "      <td>749.99</td>\n",
       "    </tr>\n",
       "    <tr>\n",
       "      <th>2</th>\n",
       "      <td>3</td>\n",
       "      <td>Surly Wednesday Frameset - 2005</td>\n",
       "      <td>8</td>\n",
       "      <td>6</td>\n",
       "      <td>2005</td>\n",
       "      <td>999.99</td>\n",
       "    </tr>\n",
       "    <tr>\n",
       "      <th>3</th>\n",
       "      <td>4</td>\n",
       "      <td>Trek Fuel EX 8 29 - 2005</td>\n",
       "      <td>9</td>\n",
       "      <td>6</td>\n",
       "      <td>2005</td>\n",
       "      <td>2899.99</td>\n",
       "    </tr>\n",
       "    <tr>\n",
       "      <th>4</th>\n",
       "      <td>5</td>\n",
       "      <td>Heller Shagamaw Frame - 2005</td>\n",
       "      <td>3</td>\n",
       "      <td>6</td>\n",
       "      <td>2005</td>\n",
       "      <td>1320.99</td>\n",
       "    </tr>\n",
       "    <tr>\n",
       "      <th>...</th>\n",
       "      <td>...</td>\n",
       "      <td>...</td>\n",
       "      <td>...</td>\n",
       "      <td>...</td>\n",
       "      <td>...</td>\n",
       "      <td>...</td>\n",
       "    </tr>\n",
       "    <tr>\n",
       "      <th>316</th>\n",
       "      <td>317</td>\n",
       "      <td>Trek Checkpoint ALR 5 - 2008</td>\n",
       "      <td>9</td>\n",
       "      <td>7</td>\n",
       "      <td>2008</td>\n",
       "      <td>1999.99</td>\n",
       "    </tr>\n",
       "    <tr>\n",
       "      <th>317</th>\n",
       "      <td>318</td>\n",
       "      <td>Trek Checkpoint ALR 5 Women's - 2008</td>\n",
       "      <td>9</td>\n",
       "      <td>7</td>\n",
       "      <td>2008</td>\n",
       "      <td>1999.99</td>\n",
       "    </tr>\n",
       "    <tr>\n",
       "      <th>318</th>\n",
       "      <td>319</td>\n",
       "      <td>Trek Checkpoint SL 5 Women's - 2008</td>\n",
       "      <td>9</td>\n",
       "      <td>7</td>\n",
       "      <td>2008</td>\n",
       "      <td>2799.99</td>\n",
       "    </tr>\n",
       "    <tr>\n",
       "      <th>319</th>\n",
       "      <td>320</td>\n",
       "      <td>Trek Checkpoint SL 6 - 2008</td>\n",
       "      <td>9</td>\n",
       "      <td>7</td>\n",
       "      <td>2008</td>\n",
       "      <td>3799.99</td>\n",
       "    </tr>\n",
       "    <tr>\n",
       "      <th>320</th>\n",
       "      <td>321</td>\n",
       "      <td>Trek Checkpoint ALR Frameset - 2008</td>\n",
       "      <td>9</td>\n",
       "      <td>7</td>\n",
       "      <td>2008</td>\n",
       "      <td>3199.99</td>\n",
       "    </tr>\n",
       "  </tbody>\n",
       "</table>\n",
       "<p>321 rows × 6 columns</p>\n",
       "</div>"
      ],
      "text/plain": [
       "     ProductID                                  Name  BrandID  CategoryID  \\\n",
       "0            1                       Trek 820 - 2005        9           6   \n",
       "1            2    Ritchey Timberwolf Frameset - 2005        5           6   \n",
       "2            3       Surly Wednesday Frameset - 2005        8           6   \n",
       "3            4              Trek Fuel EX 8 29 - 2005        9           6   \n",
       "4            5          Heller Shagamaw Frame - 2005        3           6   \n",
       "..         ...                                   ...      ...         ...   \n",
       "316        317          Trek Checkpoint ALR 5 - 2008        9           7   \n",
       "317        318  Trek Checkpoint ALR 5 Women's - 2008        9           7   \n",
       "318        319   Trek Checkpoint SL 5 Women's - 2008        9           7   \n",
       "319        320           Trek Checkpoint SL 6 - 2008        9           7   \n",
       "320        321   Trek Checkpoint ALR Frameset - 2008        9           7   \n",
       "\n",
       "     ModelYear  ListPrice  \n",
       "0         2005     379.99  \n",
       "1         2005     749.99  \n",
       "2         2005     999.99  \n",
       "3         2005    2899.99  \n",
       "4         2005    1320.99  \n",
       "..         ...        ...  \n",
       "316       2008    1999.99  \n",
       "317       2008    1999.99  \n",
       "318       2008    2799.99  \n",
       "319       2008    3799.99  \n",
       "320       2008    3199.99  \n",
       "\n",
       "[321 rows x 6 columns]"
      ]
     },
     "execution_count": 13,
     "metadata": {},
     "output_type": "execute_result"
    }
   ],
   "source": [
    "Product_list"
   ]
  },
  {
   "cell_type": "code",
   "execution_count": null,
   "metadata": {},
   "outputs": [],
   "source": []
  },
  {
   "cell_type": "markdown",
   "metadata": {},
   "source": [
    "## Exploratory Data Analysis (EDA)"
   ]
  },
  {
   "cell_type": "markdown",
   "metadata": {},
   "source": [
    "### Preprocessing:"
   ]
  },
  {
   "cell_type": "markdown",
   "metadata": {},
   "source": [
    "#### Data types were appropriately cast (e.g., datetime conversion for OrderDate).\n",
    "\n",
    "#### Merging of tables done on keys (OrderID and ProductID).\n",
    "\n",
    "#### Created new features like:\n",
    "\n",
    "#### Product_last_date: Last date a product was ordered\n",
    "\n",
    "#### Recency: Difference between the current date and the last purchase date"
   ]
  },
  {
   "cell_type": "markdown",
   "metadata": {},
   "source": [
    "## "
   ]
  },
  {
   "cell_type": "code",
   "execution_count": null,
   "metadata": {},
   "outputs": [],
   "source": [
    "# Merging of tables done on keys (OrderID and ProductID)\n",
    "df = pd.merge(sales_order,sales_order_item, on = 'OrderID').merge(Product_list, on = 'ProductID')"
   ]
  },
  {
   "cell_type": "code",
   "execution_count": 15,
   "metadata": {},
   "outputs": [
    {
     "data": {
      "text/plain": [
       "(368688, 20)"
      ]
     },
     "execution_count": 15,
     "metadata": {},
     "output_type": "execute_result"
    }
   ],
   "source": [
    "df.shape"
   ]
  },
  {
   "cell_type": "code",
   "execution_count": 13,
   "metadata": {},
   "outputs": [],
   "source": [
    "Final_Sales = df.loc[ : , ['OrderID', 'ProductID', 'OrderDate', 'OrderTotal', 'Name']]"
   ]
  },
  {
   "cell_type": "code",
   "execution_count": 14,
   "metadata": {},
   "outputs": [],
   "source": [
    "Final_Sales = Final_Sales.astype({'OrderID': 'object', 'ProductID' : 'object'})"
   ]
  },
  {
   "cell_type": "code",
   "execution_count": null,
   "metadata": {},
   "outputs": [],
   "source": [
    "# Data types were appropriately cast (e.g., datetime conversion for OrderDate).\n",
    "Final_Sales['OrderDate'] = pd.to_datetime(Final_Sales['OrderDate'])"
   ]
  },
  {
   "cell_type": "code",
   "execution_count": 16,
   "metadata": {},
   "outputs": [],
   "source": [
    "maximum_date = Final_Sales['OrderDate'].max()"
   ]
  },
  {
   "cell_type": "code",
   "execution_count": 17,
   "metadata": {},
   "outputs": [
    {
     "data": {
      "text/plain": [
       "Timestamp('2019-12-31 00:00:00')"
      ]
     },
     "execution_count": 17,
     "metadata": {},
     "output_type": "execute_result"
    }
   ],
   "source": [
    "maximum_date"
   ]
  },
  {
   "cell_type": "code",
   "execution_count": 18,
   "metadata": {},
   "outputs": [
    {
     "name": "stdout",
     "output_type": "stream",
     "text": [
      "<class 'pandas.core.frame.DataFrame'>\n",
      "RangeIndex: 368688 entries, 0 to 368687\n",
      "Data columns (total 5 columns):\n",
      " #   Column      Non-Null Count   Dtype         \n",
      "---  ------      --------------   -----         \n",
      " 0   OrderID     368688 non-null  object        \n",
      " 1   ProductID   368688 non-null  object        \n",
      " 2   OrderDate   368688 non-null  datetime64[ns]\n",
      " 3   OrderTotal  368688 non-null  float64       \n",
      " 4   Name        368688 non-null  object        \n",
      "dtypes: datetime64[ns](1), float64(1), object(3)\n",
      "memory usage: 14.1+ MB\n"
     ]
    }
   ],
   "source": [
    "Final_Sales.info()"
   ]
  },
  {
   "cell_type": "code",
   "execution_count": 19,
   "metadata": {},
   "outputs": [
    {
     "data": {
      "text/plain": [
       "Name\n",
       "Electra Amsterdam Fashion 3i Ladies' - 2006/2007      590243.44\n",
       "Electra Amsterdam Fashion 7i Ladies' - 2006         24838773.70\n",
       "Electra Amsterdam Original 3i - 2004/2006           16601600.72\n",
       "Electra Amsterdam Original 3i Ladies' - 2006        20235209.55\n",
       "Electra Amsterdam Royal 8i - 2006/2007                 52159.86\n",
       "                                                       ...     \n",
       "Trek X-Caliber 8 - 2006                             21611311.22\n",
       "Trek X-Caliber 8 - 2007                               187915.49\n",
       "Trek X-Caliber Frameset - 2007                        724077.35\n",
       "Trek XM700+ - 2007                                   1929363.03\n",
       "Trek XM700+ Lowstep - 2007                           1638959.20\n",
       "Name: OrderTotal, Length: 278, dtype: float64"
      ]
     },
     "execution_count": 19,
     "metadata": {},
     "output_type": "execute_result"
    }
   ],
   "source": [
    "Final_Sales.groupby('Name')['OrderTotal'].sum()"
   ]
  },
  {
   "cell_type": "code",
   "execution_count": 20,
   "metadata": {},
   "outputs": [],
   "source": [
    "Final_Sales['Product_last_date'] = Final_Sales.groupby('Name')['OrderDate'].transform('max')"
   ]
  },
  {
   "cell_type": "code",
   "execution_count": 21,
   "metadata": {},
   "outputs": [
    {
     "name": "stdout",
     "output_type": "stream",
     "text": [
      "<class 'pandas.core.series.Series'>\n",
      "RangeIndex: 368688 entries, 0 to 368687\n",
      "Series name: Product_last_date\n",
      "Non-Null Count   Dtype         \n",
      "--------------   -----         \n",
      "368688 non-null  datetime64[ns]\n",
      "dtypes: datetime64[ns](1)\n",
      "memory usage: 2.8 MB\n"
     ]
    }
   ],
   "source": [
    "Final_Sales['Product_last_date'].info()"
   ]
  },
  {
   "cell_type": "code",
   "execution_count": 22,
   "metadata": {},
   "outputs": [],
   "source": [
    "Final_Sales['last_date_order'] = maximum_date"
   ]
  },
  {
   "cell_type": "code",
   "execution_count": 23,
   "metadata": {},
   "outputs": [],
   "source": [
    "Final_Sales['last_date_order'] = Final_Sales['last_date_order'].astype('datetime64[ns]')"
   ]
  },
  {
   "cell_type": "code",
   "execution_count": 24,
   "metadata": {},
   "outputs": [
    {
     "data": {
      "text/plain": [
       "0         15 days\n",
       "1         15 days\n",
       "2         15 days\n",
       "3         15 days\n",
       "4         15 days\n",
       "           ...   \n",
       "368683   637 days\n",
       "368684   637 days\n",
       "368685   637 days\n",
       "368686   637 days\n",
       "368687   637 days\n",
       "Length: 368688, dtype: timedelta64[ns]"
      ]
     },
     "execution_count": 24,
     "metadata": {},
     "output_type": "execute_result"
    }
   ],
   "source": [
    "Final_Sales['last_date_order'] - Final_Sales['Product_last_date']"
   ]
  },
  {
   "cell_type": "code",
   "execution_count": 25,
   "metadata": {},
   "outputs": [
    {
     "name": "stdout",
     "output_type": "stream",
     "text": [
      "<class 'pandas.core.frame.DataFrame'>\n",
      "RangeIndex: 368688 entries, 0 to 368687\n",
      "Data columns (total 7 columns):\n",
      " #   Column             Non-Null Count   Dtype         \n",
      "---  ------             --------------   -----         \n",
      " 0   OrderID            368688 non-null  object        \n",
      " 1   ProductID          368688 non-null  object        \n",
      " 2   OrderDate          368688 non-null  datetime64[ns]\n",
      " 3   OrderTotal         368688 non-null  float64       \n",
      " 4   Name               368688 non-null  object        \n",
      " 5   Product_last_date  368688 non-null  datetime64[ns]\n",
      " 6   last_date_order    368688 non-null  datetime64[ns]\n",
      "dtypes: datetime64[ns](3), float64(1), object(3)\n",
      "memory usage: 19.7+ MB\n"
     ]
    }
   ],
   "source": [
    "Final_Sales.info()"
   ]
  },
  {
   "cell_type": "code",
   "execution_count": null,
   "metadata": {},
   "outputs": [],
   "source": []
  },
  {
   "cell_type": "markdown",
   "metadata": {},
   "source": [
    "### RFM Calculation:"
   ]
  },
  {
   "cell_type": "markdown",
   "metadata": {},
   "source": [
    "### Recency: Days since last purchase\n",
    "\n",
    "### Frequency: Number of orders per product\n",
    "\n",
    "### Monetary Value: Sum of order totals"
   ]
  },
  {
   "cell_type": "code",
   "execution_count": null,
   "metadata": {},
   "outputs": [],
   "source": [
    "# Recency \n",
    "Final_Sales['Recency'] = Final_Sales['last_date_order'] - Final_Sales['Product_last_date']"
   ]
  },
  {
   "cell_type": "code",
   "execution_count": 27,
   "metadata": {},
   "outputs": [],
   "source": [
    "aggregated  = Final_Sales.groupby('Name').agg(Frequency = ('Name', 'count'), Monetory_Value = ('OrderTotal', 'sum'))"
   ]
  },
  {
   "cell_type": "code",
   "execution_count": 28,
   "metadata": {},
   "outputs": [],
   "source": [
    "recency = Final_Sales.groupby('Name').apply(\n",
    "    lambda group: (group['last_date_order'].max() - group['Product_last_date'].max()).days\n",
    ").rename('Recency')"
   ]
  },
  {
   "cell_type": "code",
   "execution_count": 29,
   "metadata": {},
   "outputs": [],
   "source": [
    "RFM_data = pd.concat([recency, aggregated], axis = 1)"
   ]
  },
  {
   "cell_type": "code",
   "execution_count": 30,
   "metadata": {},
   "outputs": [
    {
     "data": {
      "text/html": [
       "<div>\n",
       "<style scoped>\n",
       "    .dataframe tbody tr th:only-of-type {\n",
       "        vertical-align: middle;\n",
       "    }\n",
       "\n",
       "    .dataframe tbody tr th {\n",
       "        vertical-align: top;\n",
       "    }\n",
       "\n",
       "    .dataframe thead th {\n",
       "        text-align: right;\n",
       "    }\n",
       "</style>\n",
       "<table border=\"1\" class=\"dataframe\">\n",
       "  <thead>\n",
       "    <tr style=\"text-align: right;\">\n",
       "      <th></th>\n",
       "      <th>Name</th>\n",
       "      <th>Recency</th>\n",
       "      <th>Frequency</th>\n",
       "      <th>Monetory_Value</th>\n",
       "    </tr>\n",
       "  </thead>\n",
       "  <tbody>\n",
       "    <tr>\n",
       "      <th>0</th>\n",
       "      <td>Electra Amsterdam Fashion 3i Ladies' - 2006/2007</td>\n",
       "      <td>610</td>\n",
       "      <td>96</td>\n",
       "      <td>590243.44</td>\n",
       "    </tr>\n",
       "    <tr>\n",
       "      <th>1</th>\n",
       "      <td>Electra Amsterdam Fashion 7i Ladies' - 2006</td>\n",
       "      <td>11</td>\n",
       "      <td>2176</td>\n",
       "      <td>24838773.70</td>\n",
       "    </tr>\n",
       "    <tr>\n",
       "      <th>2</th>\n",
       "      <td>Electra Amsterdam Original 3i - 2004/2006</td>\n",
       "      <td>0</td>\n",
       "      <td>1984</td>\n",
       "      <td>16601600.72</td>\n",
       "    </tr>\n",
       "    <tr>\n",
       "      <th>3</th>\n",
       "      <td>Electra Amsterdam Original 3i Ladies' - 2006</td>\n",
       "      <td>4</td>\n",
       "      <td>1952</td>\n",
       "      <td>20235209.55</td>\n",
       "    </tr>\n",
       "    <tr>\n",
       "      <th>4</th>\n",
       "      <td>Electra Amsterdam Royal 8i - 2006/2007</td>\n",
       "      <td>650</td>\n",
       "      <td>32</td>\n",
       "      <td>52159.86</td>\n",
       "    </tr>\n",
       "    <tr>\n",
       "      <th>...</th>\n",
       "      <td>...</td>\n",
       "      <td>...</td>\n",
       "      <td>...</td>\n",
       "      <td>...</td>\n",
       "    </tr>\n",
       "    <tr>\n",
       "      <th>273</th>\n",
       "      <td>Trek X-Caliber 8 - 2006</td>\n",
       "      <td>37</td>\n",
       "      <td>2048</td>\n",
       "      <td>21611311.22</td>\n",
       "    </tr>\n",
       "    <tr>\n",
       "      <th>274</th>\n",
       "      <td>Trek X-Caliber 8 - 2007</td>\n",
       "      <td>620</td>\n",
       "      <td>64</td>\n",
       "      <td>187915.49</td>\n",
       "    </tr>\n",
       "    <tr>\n",
       "      <th>275</th>\n",
       "      <td>Trek X-Caliber Frameset - 2007</td>\n",
       "      <td>628</td>\n",
       "      <td>96</td>\n",
       "      <td>724077.35</td>\n",
       "    </tr>\n",
       "    <tr>\n",
       "      <th>276</th>\n",
       "      <td>Trek XM700+ - 2007</td>\n",
       "      <td>623</td>\n",
       "      <td>160</td>\n",
       "      <td>1929363.03</td>\n",
       "    </tr>\n",
       "    <tr>\n",
       "      <th>277</th>\n",
       "      <td>Trek XM700+ Lowstep - 2007</td>\n",
       "      <td>620</td>\n",
       "      <td>128</td>\n",
       "      <td>1638959.20</td>\n",
       "    </tr>\n",
       "  </tbody>\n",
       "</table>\n",
       "<p>278 rows × 4 columns</p>\n",
       "</div>"
      ],
      "text/plain": [
       "                                                 Name  Recency  Frequency  \\\n",
       "0    Electra Amsterdam Fashion 3i Ladies' - 2006/2007      610         96   \n",
       "1         Electra Amsterdam Fashion 7i Ladies' - 2006       11       2176   \n",
       "2           Electra Amsterdam Original 3i - 2004/2006        0       1984   \n",
       "3        Electra Amsterdam Original 3i Ladies' - 2006        4       1952   \n",
       "4              Electra Amsterdam Royal 8i - 2006/2007      650         32   \n",
       "..                                                ...      ...        ...   \n",
       "273                           Trek X-Caliber 8 - 2006       37       2048   \n",
       "274                           Trek X-Caliber 8 - 2007      620         64   \n",
       "275                    Trek X-Caliber Frameset - 2007      628         96   \n",
       "276                                Trek XM700+ - 2007      623        160   \n",
       "277                        Trek XM700+ Lowstep - 2007      620        128   \n",
       "\n",
       "     Monetory_Value  \n",
       "0         590243.44  \n",
       "1       24838773.70  \n",
       "2       16601600.72  \n",
       "3       20235209.55  \n",
       "4          52159.86  \n",
       "..              ...  \n",
       "273     21611311.22  \n",
       "274       187915.49  \n",
       "275       724077.35  \n",
       "276      1929363.03  \n",
       "277      1638959.20  \n",
       "\n",
       "[278 rows x 4 columns]"
      ]
     },
     "execution_count": 30,
     "metadata": {},
     "output_type": "execute_result"
    }
   ],
   "source": [
    "RFM_data = RFM_data.reset_index()\n",
    "RFM_data"
   ]
  },
  {
   "cell_type": "code",
   "execution_count": 32,
   "metadata": {},
   "outputs": [
    {
     "data": {
      "text/html": [
       "<div>\n",
       "<style scoped>\n",
       "    .dataframe tbody tr th:only-of-type {\n",
       "        vertical-align: middle;\n",
       "    }\n",
       "\n",
       "    .dataframe tbody tr th {\n",
       "        vertical-align: top;\n",
       "    }\n",
       "\n",
       "    .dataframe thead th {\n",
       "        text-align: right;\n",
       "    }\n",
       "</style>\n",
       "<table border=\"1\" class=\"dataframe\">\n",
       "  <thead>\n",
       "    <tr style=\"text-align: right;\">\n",
       "      <th></th>\n",
       "      <th>Name</th>\n",
       "      <th>Recency</th>\n",
       "      <th>Frequency</th>\n",
       "      <th>Monetory_Value</th>\n",
       "    </tr>\n",
       "  </thead>\n",
       "  <tbody>\n",
       "    <tr>\n",
       "      <th>0</th>\n",
       "      <td>Electra Amsterdam Fashion 3i Ladies' - 2006/2007</td>\n",
       "      <td>610</td>\n",
       "      <td>96</td>\n",
       "      <td>590243.44</td>\n",
       "    </tr>\n",
       "    <tr>\n",
       "      <th>1</th>\n",
       "      <td>Electra Amsterdam Fashion 7i Ladies' - 2006</td>\n",
       "      <td>11</td>\n",
       "      <td>2176</td>\n",
       "      <td>24838773.70</td>\n",
       "    </tr>\n",
       "    <tr>\n",
       "      <th>2</th>\n",
       "      <td>Electra Amsterdam Original 3i - 2004/2006</td>\n",
       "      <td>0</td>\n",
       "      <td>1984</td>\n",
       "      <td>16601600.72</td>\n",
       "    </tr>\n",
       "    <tr>\n",
       "      <th>3</th>\n",
       "      <td>Electra Amsterdam Original 3i Ladies' - 2006</td>\n",
       "      <td>4</td>\n",
       "      <td>1952</td>\n",
       "      <td>20235209.55</td>\n",
       "    </tr>\n",
       "    <tr>\n",
       "      <th>4</th>\n",
       "      <td>Electra Amsterdam Royal 8i - 2006/2007</td>\n",
       "      <td>650</td>\n",
       "      <td>32</td>\n",
       "      <td>52159.86</td>\n",
       "    </tr>\n",
       "    <tr>\n",
       "      <th>...</th>\n",
       "      <td>...</td>\n",
       "      <td>...</td>\n",
       "      <td>...</td>\n",
       "      <td>...</td>\n",
       "    </tr>\n",
       "    <tr>\n",
       "      <th>273</th>\n",
       "      <td>Trek X-Caliber 8 - 2006</td>\n",
       "      <td>37</td>\n",
       "      <td>2048</td>\n",
       "      <td>21611311.22</td>\n",
       "    </tr>\n",
       "    <tr>\n",
       "      <th>274</th>\n",
       "      <td>Trek X-Caliber 8 - 2007</td>\n",
       "      <td>620</td>\n",
       "      <td>64</td>\n",
       "      <td>187915.49</td>\n",
       "    </tr>\n",
       "    <tr>\n",
       "      <th>275</th>\n",
       "      <td>Trek X-Caliber Frameset - 2007</td>\n",
       "      <td>628</td>\n",
       "      <td>96</td>\n",
       "      <td>724077.35</td>\n",
       "    </tr>\n",
       "    <tr>\n",
       "      <th>276</th>\n",
       "      <td>Trek XM700+ - 2007</td>\n",
       "      <td>623</td>\n",
       "      <td>160</td>\n",
       "      <td>1929363.03</td>\n",
       "    </tr>\n",
       "    <tr>\n",
       "      <th>277</th>\n",
       "      <td>Trek XM700+ Lowstep - 2007</td>\n",
       "      <td>620</td>\n",
       "      <td>128</td>\n",
       "      <td>1638959.20</td>\n",
       "    </tr>\n",
       "  </tbody>\n",
       "</table>\n",
       "<p>278 rows × 4 columns</p>\n",
       "</div>"
      ],
      "text/plain": [
       "                                                 Name  Recency  Frequency  \\\n",
       "0    Electra Amsterdam Fashion 3i Ladies' - 2006/2007      610         96   \n",
       "1         Electra Amsterdam Fashion 7i Ladies' - 2006       11       2176   \n",
       "2           Electra Amsterdam Original 3i - 2004/2006        0       1984   \n",
       "3        Electra Amsterdam Original 3i Ladies' - 2006        4       1952   \n",
       "4              Electra Amsterdam Royal 8i - 2006/2007      650         32   \n",
       "..                                                ...      ...        ...   \n",
       "273                           Trek X-Caliber 8 - 2006       37       2048   \n",
       "274                           Trek X-Caliber 8 - 2007      620         64   \n",
       "275                    Trek X-Caliber Frameset - 2007      628         96   \n",
       "276                                Trek XM700+ - 2007      623        160   \n",
       "277                        Trek XM700+ Lowstep - 2007      620        128   \n",
       "\n",
       "     Monetory_Value  \n",
       "0         590243.44  \n",
       "1       24838773.70  \n",
       "2       16601600.72  \n",
       "3       20235209.55  \n",
       "4          52159.86  \n",
       "..              ...  \n",
       "273     21611311.22  \n",
       "274       187915.49  \n",
       "275       724077.35  \n",
       "276      1929363.03  \n",
       "277      1638959.20  \n",
       "\n",
       "[278 rows x 4 columns]"
      ]
     },
     "execution_count": 32,
     "metadata": {},
     "output_type": "execute_result"
    }
   ],
   "source": [
    "RFM_data"
   ]
  },
  {
   "cell_type": "code",
   "execution_count": null,
   "metadata": {},
   "outputs": [],
   "source": []
  },
  {
   "cell_type": "markdown",
   "metadata": {},
   "source": [
    "## Relationship between R,F and M"
   ]
  },
  {
   "cell_type": "code",
   "execution_count": 34,
   "metadata": {},
   "outputs": [],
   "source": [
    "# Exploring the data, check relationship between R,F and M\n",
    "def relationship(df, col1, col2):\n",
    "    sns.lmplot(df, x = col1, y = col2)\n"
   ]
  },
  {
   "cell_type": "code",
   "execution_count": 35,
   "metadata": {},
   "outputs": [
    {
     "data": {
      "image/png": "[encoded data removed]",
      "text/plain": [
       "<Figure size 500x500 with 1 Axes>"
      ]
     },
     "metadata": {},
     "output_type": "display_data"
    }
   ],
   "source": [
    "relationship(RFM_data, 'Recency', 'Frequency')"
   ]
  },
  {
   "cell_type": "markdown",
   "metadata": {},
   "source": [
    "There is a noticeable negative correlation between recency and frequency. As recency increases (longer time since last purchase), frequency decreases.\n",
    "\n",
    "This suggests that customers who purchase frequently tend to make purchases more recently."
   ]
  },
  {
   "cell_type": "code",
   "execution_count": 36,
   "metadata": {},
   "outputs": [
    {
     "data": {
      "image/png": "[encoded data removed]",
      "text/plain": [
       "<Figure size 500x500 with 1 Axes>"
      ]
     },
     "metadata": {},
     "output_type": "display_data"
    }
   ],
   "source": [
    "relationship(RFM_data, 'Recency', 'Monetory_Value');"
   ]
  },
  {
   "cell_type": "markdown",
   "metadata": {},
   "source": [
    "same as above "
   ]
  },
  {
   "cell_type": "code",
   "execution_count": 37,
   "metadata": {},
   "outputs": [
    {
     "data": {
      "image/png": "[encoded data removed]",
      "text/plain": [
       "<Figure size 500x500 with 1 Axes>"
      ]
     },
     "metadata": {},
     "output_type": "display_data"
    }
   ],
   "source": [
    "relationship(RFM_data, 'Frequency', 'Monetory_Value');"
   ]
  },
  {
   "cell_type": "markdown",
   "metadata": {},
   "source": [
    "There is a strong positive correlation between frequency and monetary value. As frequency increases, monetary value also increases.\n",
    "\n",
    "This indicates that customers who make purchases more frequently tend to spend more overall."
   ]
  },
  {
   "cell_type": "code",
   "execution_count": null,
   "metadata": {},
   "outputs": [],
   "source": []
  },
  {
   "cell_type": "markdown",
   "metadata": {},
   "source": [
    "## Check for Outliers"
   ]
  },
  {
   "cell_type": "code",
   "execution_count": 38,
   "metadata": {},
   "outputs": [],
   "source": [
    "def Outlier_detect (df,col):\n",
    "    fig , (ax1 , ax2 ) = plt.subplots(2,1)\n",
    "    \n",
    "    sns.boxplot(x = df[col], ax=ax1)\n",
    "    sns.histplot(x = df[col], ax=ax2 , kde = True)"
   ]
  },
  {
   "cell_type": "code",
   "execution_count": 39,
   "metadata": {},
   "outputs": [
    {
     "data": {
      "image/png": "[encoded data removed]",
      "text/plain": [
       "<Figure size 640x480 with 2 Axes>"
      ]
     },
     "metadata": {},
     "output_type": "display_data"
    }
   ],
   "source": [
    "# Monetory Value\n",
    "Outlier_detect(RFM_data, 'Monetory_Value')"
   ]
  },
  {
   "cell_type": "markdown",
   "metadata": {},
   "source": [
    "## Key Insights:\n",
    "1. Right Skewness: The data is heavily right-skewed, indicating that most customers spend relatively little, but a small number of customers     spend significantly more.\n",
    "\n",
    "2. Outliers: A large number of outliers suggest the presence of high-value customers (Actual values)"
   ]
  },
  {
   "cell_type": "code",
   "execution_count": 40,
   "metadata": {},
   "outputs": [
    {
     "data": {
      "image/png": "[encoded data removed]",
      "text/plain": [
       "<Figure size 640x480 with 2 Axes>"
      ]
     },
     "metadata": {},
     "output_type": "display_data"
    }
   ],
   "source": [
    "# Frequency\n",
    "Outlier_detect(RFM_data, 'Frequency')"
   ]
  },
  {
   "cell_type": "code",
   "execution_count": 41,
   "metadata": {},
   "outputs": [
    {
     "data": {
      "image/png": "[encoded data removed]",
      "text/plain": [
       "<Figure size 640x480 with 2 Axes>"
      ]
     },
     "metadata": {},
     "output_type": "display_data"
    }
   ],
   "source": [
    "# Recency\n",
    "Outlier_detect(RFM_data, 'Recency')"
   ]
  },
  {
   "cell_type": "code",
   "execution_count": null,
   "metadata": {},
   "outputs": [],
   "source": []
  },
  {
   "cell_type": "markdown",
   "metadata": {},
   "source": [
    "## Clustering Analysis "
   ]
  },
  {
   "cell_type": "markdown",
   "metadata": {},
   "source": [
    "### Data Scaling "
   ]
  },
  {
   "cell_type": "code",
   "execution_count": 49,
   "metadata": {},
   "outputs": [],
   "source": [
    "X = RFM_data.drop('Name', axis = 1)"
   ]
  },
  {
   "cell_type": "code",
   "execution_count": 50,
   "metadata": {},
   "outputs": [
    {
     "data": {
      "text/html": [
       "<div>\n",
       "<style scoped>\n",
       "    .dataframe tbody tr th:only-of-type {\n",
       "        vertical-align: middle;\n",
       "    }\n",
       "\n",
       "    .dataframe tbody tr th {\n",
       "        vertical-align: top;\n",
       "    }\n",
       "\n",
       "    .dataframe thead th {\n",
       "        text-align: right;\n",
       "    }\n",
       "</style>\n",
       "<table border=\"1\" class=\"dataframe\">\n",
       "  <thead>\n",
       "    <tr style=\"text-align: right;\">\n",
       "      <th></th>\n",
       "      <th>Recency</th>\n",
       "      <th>Frequency</th>\n",
       "      <th>Monetory_Value</th>\n",
       "    </tr>\n",
       "  </thead>\n",
       "  <tbody>\n",
       "    <tr>\n",
       "      <th>0</th>\n",
       "      <td>610</td>\n",
       "      <td>96</td>\n",
       "      <td>590243.44</td>\n",
       "    </tr>\n",
       "    <tr>\n",
       "      <th>1</th>\n",
       "      <td>11</td>\n",
       "      <td>2176</td>\n",
       "      <td>24838773.70</td>\n",
       "    </tr>\n",
       "    <tr>\n",
       "      <th>2</th>\n",
       "      <td>0</td>\n",
       "      <td>1984</td>\n",
       "      <td>16601600.72</td>\n",
       "    </tr>\n",
       "    <tr>\n",
       "      <th>3</th>\n",
       "      <td>4</td>\n",
       "      <td>1952</td>\n",
       "      <td>20235209.55</td>\n",
       "    </tr>\n",
       "    <tr>\n",
       "      <th>4</th>\n",
       "      <td>650</td>\n",
       "      <td>32</td>\n",
       "      <td>52159.86</td>\n",
       "    </tr>\n",
       "    <tr>\n",
       "      <th>...</th>\n",
       "      <td>...</td>\n",
       "      <td>...</td>\n",
       "      <td>...</td>\n",
       "    </tr>\n",
       "    <tr>\n",
       "      <th>273</th>\n",
       "      <td>37</td>\n",
       "      <td>2048</td>\n",
       "      <td>21611311.22</td>\n",
       "    </tr>\n",
       "    <tr>\n",
       "      <th>274</th>\n",
       "      <td>620</td>\n",
       "      <td>64</td>\n",
       "      <td>187915.49</td>\n",
       "    </tr>\n",
       "    <tr>\n",
       "      <th>275</th>\n",
       "      <td>628</td>\n",
       "      <td>96</td>\n",
       "      <td>724077.35</td>\n",
       "    </tr>\n",
       "    <tr>\n",
       "      <th>276</th>\n",
       "      <td>623</td>\n",
       "      <td>160</td>\n",
       "      <td>1929363.03</td>\n",
       "    </tr>\n",
       "    <tr>\n",
       "      <th>277</th>\n",
       "      <td>620</td>\n",
       "      <td>128</td>\n",
       "      <td>1638959.20</td>\n",
       "    </tr>\n",
       "  </tbody>\n",
       "</table>\n",
       "<p>278 rows × 3 columns</p>\n",
       "</div>"
      ],
      "text/plain": [
       "     Recency  Frequency  Monetory_Value\n",
       "0        610         96       590243.44\n",
       "1         11       2176     24838773.70\n",
       "2          0       1984     16601600.72\n",
       "3          4       1952     20235209.55\n",
       "4        650         32        52159.86\n",
       "..       ...        ...             ...\n",
       "273       37       2048     21611311.22\n",
       "274      620         64       187915.49\n",
       "275      628         96       724077.35\n",
       "276      623        160      1929363.03\n",
       "277      620        128      1638959.20\n",
       "\n",
       "[278 rows x 3 columns]"
      ]
     },
     "execution_count": 50,
     "metadata": {},
     "output_type": "execute_result"
    }
   ],
   "source": [
    "X"
   ]
  },
  {
   "cell_type": "code",
   "execution_count": 51,
   "metadata": {},
   "outputs": [],
   "source": [
    "from sklearn.preprocessing import StandardScaler"
   ]
  },
  {
   "cell_type": "code",
   "execution_count": 52,
   "metadata": {},
   "outputs": [],
   "source": [
    "scaler = StandardScaler()\n",
    "scaled_X = scaler.fit_transform(X)"
   ]
  },
  {
   "cell_type": "code",
   "execution_count": 53,
   "metadata": {},
   "outputs": [
    {
     "data": {
      "text/plain": [
       "array([[ 7.47313511e-01, -4.82781707e-01, -5.73104827e-01],\n",
       "       [-1.32717039e+00,  3.33486405e-01,  6.65970185e-01],\n",
       "       [-1.36526609e+00,  2.58138579e-01,  2.45059099e-01],\n",
       "       [-1.35141311e+00,  2.45580608e-01,  4.30732781e-01],\n",
       "       [ 8.85843321e-01, -5.07897649e-01, -6.00600345e-01],\n",
       "       [ 8.13115171e-01, -4.95339678e-01, -5.58203950e-01],\n",
       "       [-1.21634655e+00,  5.70201899e+00,  3.99775301e+00],\n",
       "       [ 1.31055180e-02, -4.70223736e-01, -5.67734363e-01],\n",
       "       [ 7.50776756e-01, -4.70223736e-01, -5.26933735e-01],\n",
       "       [ 9.65497962e-01, -5.07897649e-01, -5.83356364e-01],\n",
       "       [ 8.23504906e-01, -4.45107795e-01, -5.39322409e-01],\n",
       "       [ 8.40821133e-01, -5.07897649e-01, -6.00329884e-01],\n",
       "       [ 7.81945963e-01, -4.95339678e-01, -5.87159088e-01],\n",
       "       [ 3.49040307e-01, -4.95339678e-01, -5.89393757e-01],\n",
       "       [ 8.09651925e-01, -4.82781707e-01, -5.69121971e-01],\n",
       "       [-1.29253794e+00,  1.95348725e-01,  1.42710650e-01],\n",
       "       [ 8.33894642e-01, -4.45107795e-01, -5.68733002e-01],\n",
       "       [ 8.23504906e-01, -4.70223736e-01, -5.57010124e-01],\n",
       "       [ 4.94496608e-01, -4.95339678e-01, -5.93217933e-01],\n",
       "       [ 7.95798944e-01, -4.82781707e-01, -5.53562854e-01],\n",
       "       [ 1.03476287e+00, -4.95339678e-01, -5.83926295e-01],\n",
       "       [-1.35141311e+00,  1.07442928e-01, -1.77253695e-02],\n",
       "       [ 8.99696302e-01, -4.95339678e-01, -5.91465328e-01],\n",
       "       [ 7.71556228e-01, -4.57665765e-01, -5.59684779e-01],\n",
       "       [ 8.89306566e-01, -4.70223736e-01, -5.58174729e-01],\n",
       "       [ 8.30431397e-01, -4.70223736e-01, -5.40825915e-01],\n",
       "       [-1.34448662e+00,  5.30016392e+00,  3.69469530e+00],\n",
       "       [-1.18864058e+00,  2.68810596e+00,  1.83507732e+00],\n",
       "       [-1.34794986e+00,  1.19998640e+00,  1.09777179e+00],\n",
       "       [-1.34102337e+00,  2.20464666e-01,  4.53440776e-01],\n",
       "       [ 4.77379705e-02, -4.70223736e-01, -5.68832509e-01],\n",
       "       [ 7.88872454e-01, -4.45107795e-01, -4.99110169e-01],\n",
       "       [ 3.00554874e-01, -4.82781707e-01, -5.27516507e-01],\n",
       "       [ 3.00554874e-01, -4.82781707e-01, -5.41059722e-01],\n",
       "       [-1.20942005e+00,  2.38671466e+00,  2.09413663e+00],\n",
       "       [-1.33409688e+00,  1.32558870e-01,  1.03520221e-01],\n",
       "       [ 8.30431397e-01, -4.82781707e-01, -5.85370830e-01],\n",
       "       [ 7.92335699e-01, -4.70223736e-01, -5.43682051e-01],\n",
       "       [ 7.99262190e-01, -4.82781707e-01, -5.77802799e-01],\n",
       "       [-1.15747138e+00,  2.07906696e-01,  1.90809082e-01],\n",
       "       [ 7.88872454e-01, -5.07897649e-01, -6.01064408e-01],\n",
       "       [ 7.57703247e-01, -4.82781707e-01, -5.50799445e-01],\n",
       "       [ 8.61600604e-01, -5.07897649e-01, -5.89257076e-01],\n",
       "       [ 8.20041661e-01, -5.07897649e-01, -5.87528438e-01],\n",
       "       [-1.09166972e+00, -1.18600550e-01, -7.96022789e-02],\n",
       "       [ 8.20041661e-01, -4.82781707e-01, -5.91883581e-01],\n",
       "       [-1.35487636e+00,  2.83254521e-01,  1.95260916e-01],\n",
       "       [ 7.61166492e-01, -4.70223736e-01, -5.09751819e-01],\n",
       "       [ 1.44708837e-01, -5.07897649e-01, -5.94913581e-01],\n",
       "       [ 1.14558671e+00, -5.07897649e-01, -5.88506894e-01],\n",
       "       [ 8.33894642e-01, -4.82781707e-01, -5.68438132e-01],\n",
       "       [ 1.44708837e-01, -4.70223736e-01, -5.57732122e-01],\n",
       "       [ 8.82380076e-01, -5.07897649e-01, -5.93400492e-01],\n",
       "       [-9.07918395e-02, -4.70223736e-01, -5.64116597e-01],\n",
       "       [-1.28214821e+00,  4.33950173e-01,  3.37509814e-01],\n",
       "       [-1.30985417e+00,  3.58602347e-01,  4.91895646e-01],\n",
       "       [ 8.40821133e-01, -4.57665765e-01, -5.57000677e-01],\n",
       "       [ 7.57703247e-01, -3.94875911e-01, -4.75675589e-01],\n",
       "       [ 5.32592305e-01, -4.45107795e-01, -5.25263366e-01],\n",
       "       [ 7.99262190e-01, -4.45107795e-01, -5.18308387e-01],\n",
       "       [ 3.49040307e-01, -4.57665765e-01, -5.46836207e-01],\n",
       "       [ 8.33894642e-01, -4.70223736e-01, -5.73856627e-01],\n",
       "       [ 7.78482718e-01, -4.95339678e-01, -5.92124134e-01],\n",
       "       [ 7.71556228e-01, -4.45107795e-01, -4.79307542e-01],\n",
       "       [ 7.71556228e-01, -4.70223736e-01, -5.65504953e-01],\n",
       "       [ 1.44708837e-01, -4.45107795e-01, -5.59306069e-01],\n",
       "       [ 7.75019473e-01, -3.94875911e-01, -4.13531065e-01],\n",
       "       [ 7.75019473e-01, -4.19991853e-01, -4.74273107e-01],\n",
       "       [ 8.13115171e-01, -4.82781707e-01, -5.53747169e-01],\n",
       "       [ 7.85409209e-01, -4.45107795e-01, -4.84433286e-01],\n",
       "       [ 8.26968152e-01, -4.70223736e-01, -5.66242748e-01],\n",
       "       [ 7.61166492e-01, -4.82781707e-01, -5.41877793e-01],\n",
       "       [-1.34448662e+00,  5.62039218e+00,  4.75743924e+00],\n",
       "       [ 7.75019473e-01, -4.95339678e-01, -5.69074200e-01],\n",
       "       [ 7.75019473e-01, -4.07433882e-01, -4.44789099e-01],\n",
       "       [ 8.09651925e-01, -4.57665765e-01, -5.49285627e-01],\n",
       "       [ 7.92335699e-01, -4.82781707e-01, -5.53129783e-01],\n",
       "       [ 5.01423098e-01, -4.82781707e-01, -5.65340953e-01],\n",
       "       [ 7.57703247e-01, -4.95339678e-01, -5.75608922e-01],\n",
       "       [-1.30639092e+00,  2.63159509e+00,  2.17400887e+00],\n",
       "       [-1.31331741e+00,  1.04929075e+00,  9.35163914e-01],\n",
       "       [-1.34448662e+00,  5.56388131e+00,  4.33500812e+00],\n",
       "       [ 7.50776756e-01, -4.95339678e-01, -5.79894384e-01],\n",
       "       [-1.36526609e+00,  2.22974002e+00,  2.12098567e+00],\n",
       "       [ 7.57703247e-01, -4.57665765e-01, -4.96228090e-01],\n",
       "       [ 7.50776756e-01, -4.45107795e-01, -5.40022652e-01],\n",
       "       [ 1.14212347e+00, -5.07897649e-01, -5.97664512e-01],\n",
       "       [ 7.81945963e-01, -4.57665765e-01, -5.42766203e-01],\n",
       "       [ 7.71556228e-01, -4.82781707e-01, -5.80172622e-01],\n",
       "       [ 7.92335699e-01, -4.70223736e-01, -5.49405466e-01],\n",
       "       [-1.31678066e+00,  2.20464666e-01,  3.81554815e-01],\n",
       "       [-1.23366277e+00,  1.07442928e-01, -1.00406260e-01],\n",
       "       [-1.31331741e+00,  1.32558870e-01,  4.21449199e-02],\n",
       "       [-1.29600119e+00,  5.72110440e-02, -2.30075609e-02],\n",
       "       [-1.34102337e+00,  6.34877708e-01,  7.83330174e-01],\n",
       "       [-1.19903032e+00,  1.20000899e-01,  1.51132034e-01],\n",
       "       [-1.34448662e+00,  2.58138579e-01,  4.78096931e-01],\n",
       "       [-1.35141311e+00,  2.83254521e-01,  7.61879642e-02],\n",
       "       [-1.35487636e+00,  2.95812492e-01,  1.23232075e-01],\n",
       "       [-1.34448662e+00,  1.95348725e-01,  1.41577294e-02],\n",
       "       [ 7.71556228e-01, -4.95339678e-01, -5.69775563e-01],\n",
       "       [-1.29600119e+00,  2.46206248e+00,  2.39272014e+00],\n",
       "       [ 8.20041661e-01, -4.70223736e-01, -5.18883256e-01],\n",
       "       [-1.31331741e+00,  2.40555161e+00,  1.80315029e+00],\n",
       "       [-1.25790549e+00,  2.26741393e+00,  1.62481728e+00],\n",
       "       [-1.23366277e+00,  2.02253350e+00,  1.31187005e+00],\n",
       "       [-1.30639092e+00,  1.91579075e+00,  1.50000223e+00],\n",
       "       [ 7.71556228e-01, -4.32549824e-01, -4.85657841e-01],\n",
       "       [ 8.33894642e-01, -4.82781707e-01, -5.88153907e-01],\n",
       "       [ 7.57703247e-01, -4.45107795e-01, -5.00428316e-01],\n",
       "       [-1.24751575e+00,  3.83718289e-01,  5.77421761e-01],\n",
       "       [-1.34448662e+00,  2.83254521e-01,  3.03179071e-01],\n",
       "       [-1.27175847e+00,  3.20928434e-01,  3.17814752e-01],\n",
       "       [-1.21634655e+00,  3.20951020e-02,  1.15234805e-01],\n",
       "       [-1.31331741e+00,  2.33022637e-01,  2.24083164e-01],\n",
       "       [-1.31331741e+00, -1.81367818e-02,  3.76423481e-02],\n",
       "       [-1.24405251e+00,  1.11208060e+00,  1.10014370e+00],\n",
       "       [-1.31331741e+00,  2.45580608e-01,  5.38051070e-01],\n",
       "       [-1.36180285e+00,  6.09761766e-01,  9.17887946e-01],\n",
       "       [-1.27175847e+00,  1.07442928e-01, -2.36197246e-02],\n",
       "       [-1.30639092e+00, -1.81367818e-02, -2.74808147e-03],\n",
       "       [-1.35141311e+00,  1.07442928e-01,  2.55030490e-02],\n",
       "       [-1.22673628e+00,  2.33022637e-01,  4.85240117e-01],\n",
       "       [-1.33409688e+00,  6.97667563e-01,  9.26166642e-01],\n",
       "       [-1.21634655e+00,  6.97916012e-03, -1.59249640e-01],\n",
       "       [-1.23019953e+00,  2.58138579e-01,  2.67867806e-01],\n",
       "       [-1.34448662e+00,  3.20951020e-02,  4.92966913e-03],\n",
       "       [-1.13669190e+00,  6.97690149e-02,  3.17431009e-01],\n",
       "       [-1.36526609e+00,  1.57674812e-01,  1.42351514e-01],\n",
       "       [-1.32717039e+00,  4.84182057e-01,  4.33473379e-01],\n",
       "       [-1.31331741e+00,  3.20928434e-01,  2.14885380e-01],\n",
       "       [-1.36526609e+00,  1.95348725e-01,  2.62214158e-01],\n",
       "       [ 7.57703247e-01, -4.57665765e-01, -4.95219845e-01],\n",
       "       [ 8.54674114e-01, -4.95339678e-01, -5.83441045e-01],\n",
       "       [ 7.88872454e-01, -4.57665765e-01, -5.20582875e-01],\n",
       "       [ 8.85843321e-01, -5.07897649e-01, -5.71877797e-01],\n",
       "       [-1.27175847e+00,  3.08996103e+00,  2.59581131e+00],\n",
       "       [-1.25444224e+00,  3.08370463e-01,  6.09241199e-01],\n",
       "       [-1.36526609e+00,  3.33486405e-01,  1.20294945e+00],\n",
       "       [ 1.31055180e-02, -4.32549824e-01, -5.05044115e-01],\n",
       "       [-1.33409688e+00,  1.95371311e-02,  1.09380284e-01],\n",
       "       [ 7.85409209e-01, -4.70223736e-01, -5.34351385e-01],\n",
       "       [ 7.71556228e-01, -4.82781707e-01, -5.67486462e-01],\n",
       "       [-1.34448662e+00,  3.58602347e-01,  4.03789272e-01],\n",
       "       [-1.19210383e+00,  2.61275813e+00,  2.85431229e+00],\n",
       "       [ 8.09651925e-01, -4.45107795e-01, -4.93763499e-01],\n",
       "       [-1.36180285e+00,  2.65043205e+00,  3.02973441e+00],\n",
       "       [ 7.57703247e-01, -4.82781707e-01, -5.16236649e-01],\n",
       "       [-1.28561145e+00,  4.71624086e-01,  7.39554070e-01],\n",
       "       [ 7.95798944e-01, -4.82781707e-01, -5.60158075e-01],\n",
       "       [-1.05011077e+00, -8.09266366e-02,  1.09902478e-01],\n",
       "       [-1.28561145e+00,  2.24229799e+00,  1.93782171e+00],\n",
       "       [-1.34448662e+00,  2.83254521e-01,  9.69267607e-02],\n",
       "       [ 8.75453585e-01, -4.95339678e-01, -5.74923500e-01],\n",
       "       [ 7.54240001e-01, -4.82781707e-01, -5.87103789e-01],\n",
       "       [ 7.99262190e-01, -4.95339678e-01, -5.58175452e-01],\n",
       "       [-1.35141311e+00,  3.96276260e-01,  1.34889380e+00],\n",
       "       [ 7.61166492e-01, -4.57665765e-01, -4.96233795e-01],\n",
       "       [-1.31331741e+00,  2.20464666e-01,  7.58554656e-01],\n",
       "       [-1.10552270e+00,  4.46530730e-02, -1.14903503e-01],\n",
       "       [-1.32717039e+00,  2.75089582e+00,  3.94979100e+00],\n",
       "       [ 7.92335699e-01, -4.70223736e-01, -4.94485483e-01],\n",
       "       [ 8.30431397e-01, -4.95339678e-01, -5.65633477e-01],\n",
       "       [ 8.06188680e-01, -4.82781707e-01, -5.42910375e-01],\n",
       "       [ 7.92335699e-01, -4.82781707e-01, -5.51119638e-01],\n",
       "       [ 9.65497962e-01, -5.07897649e-01, -5.83356364e-01],\n",
       "       [ 5.32592305e-01, -4.70223736e-01, -5.30764428e-01],\n",
       "       [ 8.33894642e-01, -4.95339678e-01, -5.81244145e-01],\n",
       "       [ 7.88872454e-01, -4.70223736e-01, -5.56118050e-01],\n",
       "       [ 7.78482718e-01, -4.95339678e-01, -5.76192583e-01],\n",
       "       [ 7.50776756e-01, -4.57665765e-01, -5.23369462e-01],\n",
       "       [ 1.14904996e+00, -5.07897649e-01, -5.92410067e-01],\n",
       "       [ 8.20041661e-01, -4.95339678e-01, -5.71535347e-01],\n",
       "       [ 8.09651925e-01, -4.70223736e-01, -5.22165604e-01],\n",
       "       [ 9.34328754e-01, -4.70223736e-01, -5.41849173e-01],\n",
       "       [ 7.61166492e-01, -4.70223736e-01, -4.97357507e-01],\n",
       "       [ 8.02725435e-01, -4.70223736e-01, -5.05569200e-01],\n",
       "       [ 3.42113817e-01, -4.82781707e-01, -5.52253634e-01],\n",
       "       [-1.34102337e+00,  1.07442928e-01,  5.80946556e-01],\n",
       "       [-1.18517734e+00,  3.83718289e-01,  9.94875487e-01],\n",
       "       [ 7.81945963e-01, -4.82781707e-01, -5.73170204e-01],\n",
       "       [-9.07918395e-02, -4.70223736e-01, -5.40237910e-01],\n",
       "       [ 8.89306566e-01, -4.95339678e-01, -5.40947903e-01],\n",
       "       [ 8.02725435e-01, -5.07897649e-01, -5.80962074e-01],\n",
       "       [-1.26483198e+00,  2.07906696e-01,  7.85641210e-01],\n",
       "       [ 3.00554874e-01, -4.70223736e-01, -5.30655480e-01],\n",
       "       [ 7.95798944e-01, -4.70223736e-01, -4.65258507e-01],\n",
       "       [ 4.77379705e-02, -4.57665765e-01, -4.70736754e-01],\n",
       "       [ 7.92335699e-01, -4.82781707e-01, -5.20621592e-01],\n",
       "       [-1.34102337e+00,  4.46530730e-02,  3.92169593e-01],\n",
       "       [ 7.88872454e-01, -4.82781707e-01, -5.21349567e-01],\n",
       "       [ 1.13173373e+00, -5.07897649e-01, -5.70068936e-01],\n",
       "       [ 7.50776756e-01, -4.95339678e-01, -5.77933833e-01],\n",
       "       [-1.33409688e+00,  4.84182057e-01,  2.18048615e+00],\n",
       "       [ 7.95798944e-01, -5.07897649e-01, -5.76357112e-01],\n",
       "       [ 8.23504906e-01, -4.82781707e-01, -5.04089696e-01],\n",
       "       [ 7.75019473e-01, -4.82781707e-01, -4.65455507e-01],\n",
       "       [ 7.88872454e-01, -5.07897649e-01, -5.73104995e-01],\n",
       "       [ 7.57703247e-01, -4.95339678e-01, -5.82320806e-01],\n",
       "       [ 7.57703247e-01, -4.82781707e-01, -5.22122055e-01],\n",
       "       [ 1.31055180e-02, -4.57665765e-01, -4.79153708e-01],\n",
       "       [-1.24058926e+00,  4.08834231e-01,  8.79276209e-01],\n",
       "       [-1.28907470e+00, -3.06947528e-02,  2.63650721e-01],\n",
       "       [ 9.48181735e-01, -4.95339678e-01, -5.79754119e-01],\n",
       "       [ 8.13115171e-01, -4.82781707e-01, -5.53782994e-01],\n",
       "       [ 8.40821133e-01, -4.70223736e-01, -5.06936900e-01],\n",
       "       [ 7.57703247e-01, -4.95339678e-01, -5.40438159e-01],\n",
       "       [-1.33409688e+00,  2.58138579e-01,  4.16870915e-01],\n",
       "       [ 7.85409209e-01, -4.45107795e-01, -5.21371510e-01],\n",
       "       [-1.34102337e+00,  3.08370463e-01,  1.02413962e+00],\n",
       "       [ 7.57703247e-01, -4.82781707e-01, -5.42067374e-01],\n",
       "       [ 9.44718490e-01, -4.95339678e-01, -5.79957975e-01],\n",
       "       [-1.27175847e+00,  2.60020016e+00,  3.46395190e+00],\n",
       "       [ 7.75019473e-01, -4.70223736e-01, -5.37113672e-01],\n",
       "       [ 7.95798944e-01, -4.57665765e-01, -4.46272644e-01],\n",
       "       [-1.30639092e+00,  2.95812492e-01,  1.37913153e+00],\n",
       "       [-1.21288330e+00,  1.70232783e-01,  1.18085448e+00],\n",
       "       [-1.24751575e+00, -1.06042579e-01, -1.02487516e-01],\n",
       "       [ 8.30431397e-01, -4.57665765e-01, -5.28211986e-01],\n",
       "       [ 7.68092982e-01, -4.82781707e-01, -5.74006938e-01],\n",
       "       [ 8.09651925e-01, -4.82781707e-01, -5.52592580e-01],\n",
       "       [ 9.89740678e-01, -5.07897649e-01, -5.72600966e-01],\n",
       "       [ 1.02437313e+00, -5.07897649e-01, -5.90300098e-01],\n",
       "       [ 7.54240001e-01, -5.07897649e-01, -5.90586826e-01],\n",
       "       [-1.30985417e+00,  3.58602347e-01,  1.70500263e+00],\n",
       "       [ 8.44284378e-01, -4.45107795e-01, -5.12058025e-01],\n",
       "       [ 7.50776756e-01, -4.95339678e-01, -5.68117560e-01],\n",
       "       [ 8.06188680e-01, -4.95339678e-01, -5.83669763e-01],\n",
       "       [ 7.61166492e-01, -4.95339678e-01, -5.42670411e-01],\n",
       "       [ 1.07285856e+00, -5.07897649e-01, -5.82634701e-01],\n",
       "       [ 8.85843321e-01, -5.07897649e-01, -5.71877797e-01],\n",
       "       [ 7.71556228e-01, -4.82781707e-01, -5.34576963e-01],\n",
       "       [ 8.16578416e-01, -4.57665765e-01, -4.25240389e-01],\n",
       "       [-1.29600119e+00,  3.20928434e-01,  1.57250380e+00],\n",
       "       [ 8.02725435e-01, -4.70223736e-01, -5.27255392e-01],\n",
       "       [-1.33409688e+00,  1.70232783e-01,  1.64700036e-01],\n",
       "       [-1.29253794e+00,  2.95812492e-01,  2.42630785e-01],\n",
       "       [ 1.12134400e+00, -5.07897649e-01, -5.99313253e-01],\n",
       "       [-1.28561145e+00,  5.72110440e-02,  4.20384439e-02],\n",
       "       [ 5.01423098e-01, -4.57665765e-01, -5.24140317e-01],\n",
       "       [-1.34794986e+00,  1.07442928e-01, -8.55287608e-02],\n",
       "       [ 7.64629737e-01, -4.95339678e-01, -5.87214570e-01],\n",
       "       [ 9.89740678e-01, -5.07897649e-01, -5.72600966e-01],\n",
       "       [ 8.06188680e-01, -4.95339678e-01, -5.79183063e-01],\n",
       "       [ 7.47313511e-01, -4.82781707e-01, -5.89954957e-01],\n",
       "       [-1.35141311e+00,  4.84182057e-01,  7.98084206e-01],\n",
       "       [ 8.23504906e-01, -4.82781707e-01, -5.75768164e-01],\n",
       "       [ 7.61166492e-01, -4.95339678e-01, -5.89212285e-01],\n",
       "       [ 8.68527095e-01, -5.07897649e-01, -5.94905501e-01],\n",
       "       [ 7.78482718e-01, -5.07897649e-01, -6.02663943e-01],\n",
       "       [ 5.32592305e-01, -4.95339678e-01, -5.66797977e-01],\n",
       "       [ 7.95798944e-01, -4.82781707e-01, -5.71161498e-01],\n",
       "       [ 7.64629737e-01, -4.95339678e-01, -5.92162583e-01],\n",
       "       [ 1.06593207e+00, -4.95339678e-01, -5.65190818e-01],\n",
       "       [-1.31331741e+00,  2.21718205e+00,  2.09484730e+00],\n",
       "       [ 8.37357887e-01, -4.70223736e-01, -5.27922816e-01],\n",
       "       [-1.15400813e+00, -1.81367818e-02,  8.27035516e-01],\n",
       "       [ 9.06622792e-01, -4.95339678e-01, -5.55291708e-01],\n",
       "       [-1.36180285e+00, -1.31158520e-01,  2.97009008e-02],\n",
       "       [-1.26829522e+00,  1.82790754e-01,  1.44925925e+00],\n",
       "       [-1.30639092e+00,  1.45116841e-01,  1.38916234e+00],\n",
       "       [-1.27175847e+00,  2.72577987e+00,  4.88629280e+00],\n",
       "       [-1.14015515e+00,  6.97916012e-03,  1.87777394e-01],\n",
       "       [ 8.09651925e-01, -4.70223736e-01, -5.46738120e-01],\n",
       "       [ 8.47747623e-01, -4.70223736e-01, -5.37819762e-01],\n",
       "       [ 7.71556228e-01, -4.57665765e-01, -5.03743623e-01],\n",
       "       [ 8.47747623e-01, -4.70223736e-01, -4.48205124e-01],\n",
       "       [ 9.65497962e-01, -5.07897649e-01, -5.96002020e-01],\n",
       "       [ 8.44284378e-01, -5.07897649e-01, -5.99586343e-01],\n",
       "       [ 7.99262190e-01, -4.70223736e-01, -5.47223858e-01],\n",
       "       [ 8.02725435e-01, -4.82781707e-01, -5.23670190e-01],\n",
       "       [-9.07918395e-02, -4.70223736e-01, -5.33674035e-01],\n",
       "       [ 7.71556228e-01, -4.82781707e-01, -5.60286165e-01],\n",
       "       [-1.23712602e+00,  2.83254521e-01,  5.01050164e-01],\n",
       "       [ 7.81945963e-01, -4.95339678e-01, -5.93663372e-01],\n",
       "       [ 8.09651925e-01, -4.82781707e-01, -5.66266051e-01],\n",
       "       [ 7.92335699e-01, -4.57665765e-01, -5.04677190e-01],\n",
       "       [ 7.81945963e-01, -4.70223736e-01, -5.19516527e-01]])"
      ]
     },
     "execution_count": 53,
     "metadata": {},
     "output_type": "execute_result"
    }
   ],
   "source": [
    "scaled_X"
   ]
  },
  {
   "cell_type": "code",
   "execution_count": null,
   "metadata": {},
   "outputs": [],
   "source": []
  },
  {
   "cell_type": "markdown",
   "metadata": {},
   "source": [
    "### Clustering Method: KMeans clustering"
   ]
  },
  {
   "cell_type": "code",
   "execution_count": 106,
   "metadata": {},
   "outputs": [],
   "source": [
    "from sklearn.cluster import KMeans"
   ]
  },
  {
   "cell_type": "code",
   "execution_count": 107,
   "metadata": {},
   "outputs": [],
   "source": [
    "ssd = []\n",
    "\n",
    "for k in range(2,30):\n",
    "    \n",
    "    model = KMeans(n_clusters=k)\n",
    "    \n",
    "    \n",
    "    model.fit(scaled_X)\n",
    "    \n",
    "    #Sum of squared distances of samples to their closest cluster center.\n",
    "    ssd.append(model.inertia_)"
   ]
  },
  {
   "cell_type": "code",
   "execution_count": 108,
   "metadata": {},
   "outputs": [
    {
     "data": {
      "text/plain": [
       "Text(0, 0.5, ' Sum of Squared Distances')"
      ]
     },
     "execution_count": 108,
     "metadata": {},
     "output_type": "execute_result"
    },
    {
     "data": {
      "image/png": "[encoded data removed]",
      "text/plain": [
       "<Figure size 640x480 with 1 Axes>"
      ]
     },
     "metadata": {},
     "output_type": "display_data"
    }
   ],
   "source": [
    "plt.plot(range(2,30),ssd,'o--')\n",
    "plt.xlabel(\"K Value\")\n",
    "plt.ylabel(\" Sum of Squared Distances\")"
   ]
  },
  {
   "cell_type": "code",
   "execution_count": 109,
   "metadata": {},
   "outputs": [
    {
     "data": {
      "text/plain": [
       "<Axes: >"
      ]
     },
     "execution_count": 109,
     "metadata": {},
     "output_type": "execute_result"
    },
    {
     "data": {
      "image/png": "[encoded data removed]",
      "text/plain": [
       "<Figure size 640x480 with 1 Axes>"
      ]
     },
     "metadata": {},
     "output_type": "display_data"
    }
   ],
   "source": [
    "pd.Series(ssd).diff().plot(kind='bar')"
   ]
  },
  {
   "cell_type": "markdown",
   "metadata": {},
   "source": [
    "The analysis clearly indicates that three clusters are sufficient, as the Sum of Squared Distances (SSD) shows a significant reduction up to three clusters, with minimal improvement beyond this point."
   ]
  },
  {
   "cell_type": "code",
   "execution_count": 151,
   "metadata": {},
   "outputs": [
    {
     "data": {
      "text/html": [
       "<style>#sk-container-id-18 {\n",
       "  /* Definition of color scheme common for light and dark mode */\n",
       "  --sklearn-color-text: black;\n",
       "  --sklearn-color-line: gray;\n",
       "  /* Definition of color scheme for unfitted estimators */\n",
       "  --sklearn-color-unfitted-level-0: #fff5e6;\n",
       "  --sklearn-color-unfitted-level-1: #f6e4d2;\n",
       "  --sklearn-color-unfitted-level-2: #ffe0b3;\n",
       "  --sklearn-color-unfitted-level-3: chocolate;\n",
       "  /* Definition of color scheme for fitted estimators */\n",
       "  --sklearn-color-fitted-level-0: #f0f8ff;\n",
       "  --sklearn-color-fitted-level-1: #d4ebff;\n",
       "  --sklearn-color-fitted-level-2: #b3dbfd;\n",
       "  --sklearn-color-fitted-level-3: cornflowerblue;\n",
       "\n",
       "  /* Specific color for light theme */\n",
       "  --sklearn-color-text-on-default-background: var(--sg-text-color, var(--theme-code-foreground, var(--jp-content-font-color1, black)));\n",
       "  --sklearn-color-background: var(--sg-background-color, var(--theme-background, var(--jp-layout-color0, white)));\n",
       "  --sklearn-color-border-box: var(--sg-text-color, var(--theme-code-foreground, var(--jp-content-font-color1, black)));\n",
       "  --sklearn-color-icon: #696969;\n",
       "\n",
       "  @media (prefers-color-scheme: dark) {\n",
       "    /* Redefinition of color scheme for dark theme */\n",
       "    --sklearn-color-text-on-default-background: var(--sg-text-color, var(--theme-code-foreground, var(--jp-content-font-color1, white)));\n",
       "    --sklearn-color-background: var(--sg-background-color, var(--theme-background, var(--jp-layout-color0, #111)));\n",
       "    --sklearn-color-border-box: var(--sg-text-color, var(--theme-code-foreground, var(--jp-content-font-color1, white)));\n",
       "    --sklearn-color-icon: #878787;\n",
       "  }\n",
       "}\n",
       "\n",
       "#sk-container-id-18 {\n",
       "  color: var(--sklearn-color-text);\n",
       "}\n",
       "\n",
       "#sk-container-id-18 pre {\n",
       "  padding: 0;\n",
       "}\n",
       "\n",
       "#sk-container-id-18 input.sk-hidden--visually {\n",
       "  border: 0;\n",
       "  clip: rect(1px 1px 1px 1px);\n",
       "  clip: rect(1px, 1px, 1px, 1px);\n",
       "  height: 1px;\n",
       "  margin: -1px;\n",
       "  overflow: hidden;\n",
       "  padding: 0;\n",
       "  position: absolute;\n",
       "  width: 1px;\n",
       "}\n",
       "\n",
       "#sk-container-id-18 div.sk-dashed-wrapped {\n",
       "  border: 1px dashed var(--sklearn-color-line);\n",
       "  margin: 0 0.4em 0.5em 0.4em;\n",
       "  box-sizing: border-box;\n",
       "  padding-bottom: 0.4em;\n",
       "  background-color: var(--sklearn-color-background);\n",
       "}\n",
       "\n",
       "#sk-container-id-18 div.sk-container {\n",
       "  /* jupyter's `normalize.less` sets `[hidden] { display: none; }`\n",
       "     but bootstrap.min.css set `[hidden] { display: none !important; }`\n",
       "     so we also need the `!important` here to be able to override the\n",
       "     default hidden behavior on the sphinx rendered scikit-learn.org.\n",
       "     See: https://github.com/scikit-learn/scikit-learn/issues/21755 */\n",
       "  display: inline-block !important;\n",
       "  position: relative;\n",
       "}\n",
       "\n",
       "#sk-container-id-18 div.sk-text-repr-fallback {\n",
       "  display: none;\n",
       "}\n",
       "\n",
       "div.sk-parallel-item,\n",
       "div.sk-serial,\n",
       "div.sk-item {\n",
       "  /* draw centered vertical line to link estimators */\n",
       "  background-image: linear-gradient(var(--sklearn-color-text-on-default-background), var(--sklearn-color-text-on-default-background));\n",
       "  background-size: 2px 100%;\n",
       "  background-repeat: no-repeat;\n",
       "  background-position: center center;\n",
       "}\n",
       "\n",
       "/* Parallel-specific style estimator block */\n",
       "\n",
       "#sk-container-id-18 div.sk-parallel-item::after {\n",
       "  content: \"\";\n",
       "  width: 100%;\n",
       "  border-bottom: 2px solid var(--sklearn-color-text-on-default-background);\n",
       "  flex-grow: 1;\n",
       "}\n",
       "\n",
       "#sk-container-id-18 div.sk-parallel {\n",
       "  display: flex;\n",
       "  align-items: stretch;\n",
       "  justify-content: center;\n",
       "  background-color: var(--sklearn-color-background);\n",
       "  position: relative;\n",
       "}\n",
       "\n",
       "#sk-container-id-18 div.sk-parallel-item {\n",
       "  display: flex;\n",
       "  flex-direction: column;\n",
       "}\n",
       "\n",
       "#sk-container-id-18 div.sk-parallel-item:first-child::after {\n",
       "  align-self: flex-end;\n",
       "  width: 50%;\n",
       "}\n",
       "\n",
       "#sk-container-id-18 div.sk-parallel-item:last-child::after {\n",
       "  align-self: flex-start;\n",
       "  width: 50%;\n",
       "}\n",
       "\n",
       "#sk-container-id-18 div.sk-parallel-item:only-child::after {\n",
       "  width: 0;\n",
       "}\n",
       "\n",
       "/* Serial-specific style estimator block */\n",
       "\n",
       "#sk-container-id-18 div.sk-serial {\n",
       "  display: flex;\n",
       "  flex-direction: column;\n",
       "  align-items: center;\n",
       "  background-color: var(--sklearn-color-background);\n",
       "  padding-right: 1em;\n",
       "  padding-left: 1em;\n",
       "}\n",
       "\n",
       "\n",
       "/* Toggleable style: style used for estimator/Pipeline/ColumnTransformer box that is\n",
       "clickable and can be expanded/collapsed.\n",
       "- Pipeline and ColumnTransformer use this feature and define the default style\n",
       "- Estimators will overwrite some part of the style using the `sk-estimator` class\n",
       "*/\n",
       "\n",
       "/* Pipeline and ColumnTransformer style (default) */\n",
       "\n",
       "#sk-container-id-18 div.sk-toggleable {\n",
       "  /* Default theme specific background. It is overwritten whether we have a\n",
       "  specific estimator or a Pipeline/ColumnTransformer */\n",
       "  background-color: var(--sklearn-color-background);\n",
       "}\n",
       "\n",
       "/* Toggleable label */\n",
       "#sk-container-id-18 label.sk-toggleable__label {\n",
       "  cursor: pointer;\n",
       "  display: block;\n",
       "  width: 100%;\n",
       "  margin-bottom: 0;\n",
       "  padding: 0.5em;\n",
       "  box-sizing: border-box;\n",
       "  text-align: center;\n",
       "}\n",
       "\n",
       "#sk-container-id-18 label.sk-toggleable__label-arrow:before {\n",
       "  /* Arrow on the left of the label */\n",
       "  content: \"▸\";\n",
       "  float: left;\n",
       "  margin-right: 0.25em;\n",
       "  color: var(--sklearn-color-icon);\n",
       "}\n",
       "\n",
       "#sk-container-id-18 label.sk-toggleable__label-arrow:hover:before {\n",
       "  color: var(--sklearn-color-text);\n",
       "}\n",
       "\n",
       "/* Toggleable content - dropdown */\n",
       "\n",
       "#sk-container-id-18 div.sk-toggleable__content {\n",
       "  max-height: 0;\n",
       "  max-width: 0;\n",
       "  overflow: hidden;\n",
       "  text-align: left;\n",
       "  /* unfitted */\n",
       "  background-color: var(--sklearn-color-unfitted-level-0);\n",
       "}\n",
       "\n",
       "#sk-container-id-18 div.sk-toggleable__content.fitted {\n",
       "  /* fitted */\n",
       "  background-color: var(--sklearn-color-fitted-level-0);\n",
       "}\n",
       "\n",
       "#sk-container-id-18 div.sk-toggleable__content pre {\n",
       "  margin: 0.2em;\n",
       "  border-radius: 0.25em;\n",
       "  color: var(--sklearn-color-text);\n",
       "  /* unfitted */\n",
       "  background-color: var(--sklearn-color-unfitted-level-0);\n",
       "}\n",
       "\n",
       "#sk-container-id-18 div.sk-toggleable__content.fitted pre {\n",
       "  /* unfitted */\n",
       "  background-color: var(--sklearn-color-fitted-level-0);\n",
       "}\n",
       "\n",
       "#sk-container-id-18 input.sk-toggleable__control:checked~div.sk-toggleable__content {\n",
       "  /* Expand drop-down */\n",
       "  max-height: 200px;\n",
       "  max-width: 100%;\n",
       "  overflow: auto;\n",
       "}\n",
       "\n",
       "#sk-container-id-18 input.sk-toggleable__control:checked~label.sk-toggleable__label-arrow:before {\n",
       "  content: \"▾\";\n",
       "}\n",
       "\n",
       "/* Pipeline/ColumnTransformer-specific style */\n",
       "\n",
       "#sk-container-id-18 div.sk-label input.sk-toggleable__control:checked~label.sk-toggleable__label {\n",
       "  color: var(--sklearn-color-text);\n",
       "  background-color: var(--sklearn-color-unfitted-level-2);\n",
       "}\n",
       "\n",
       "#sk-container-id-18 div.sk-label.fitted input.sk-toggleable__control:checked~label.sk-toggleable__label {\n",
       "  background-color: var(--sklearn-color-fitted-level-2);\n",
       "}\n",
       "\n",
       "/* Estimator-specific style */\n",
       "\n",
       "/* Colorize estimator box */\n",
       "#sk-container-id-18 div.sk-estimator input.sk-toggleable__control:checked~label.sk-toggleable__label {\n",
       "  /* unfitted */\n",
       "  background-color: var(--sklearn-color-unfitted-level-2);\n",
       "}\n",
       "\n",
       "#sk-container-id-18 div.sk-estimator.fitted input.sk-toggleable__control:checked~label.sk-toggleable__label {\n",
       "  /* fitted */\n",
       "  background-color: var(--sklearn-color-fitted-level-2);\n",
       "}\n",
       "\n",
       "#sk-container-id-18 div.sk-label label.sk-toggleable__label,\n",
       "#sk-container-id-18 div.sk-label label {\n",
       "  /* The background is the default theme color */\n",
       "  color: var(--sklearn-color-text-on-default-background);\n",
       "}\n",
       "\n",
       "/* On hover, darken the color of the background */\n",
       "#sk-container-id-18 div.sk-label:hover label.sk-toggleable__label {\n",
       "  color: var(--sklearn-color-text);\n",
       "  background-color: var(--sklearn-color-unfitted-level-2);\n",
       "}\n",
       "\n",
       "/* Label box, darken color on hover, fitted */\n",
       "#sk-container-id-18 div.sk-label.fitted:hover label.sk-toggleable__label.fitted {\n",
       "  color: var(--sklearn-color-text);\n",
       "  background-color: var(--sklearn-color-fitted-level-2);\n",
       "}\n",
       "\n",
       "/* Estimator label */\n",
       "\n",
       "#sk-container-id-18 div.sk-label label {\n",
       "  font-family: monospace;\n",
       "  font-weight: bold;\n",
       "  display: inline-block;\n",
       "  line-height: 1.2em;\n",
       "}\n",
       "\n",
       "#sk-container-id-18 div.sk-label-container {\n",
       "  text-align: center;\n",
       "}\n",
       "\n",
       "/* Estimator-specific */\n",
       "#sk-container-id-18 div.sk-estimator {\n",
       "  font-family: monospace;\n",
       "  border: 1px dotted var(--sklearn-color-border-box);\n",
       "  border-radius: 0.25em;\n",
       "  box-sizing: border-box;\n",
       "  margin-bottom: 0.5em;\n",
       "  /* unfitted */\n",
       "  background-color: var(--sklearn-color-unfitted-level-0);\n",
       "}\n",
       "\n",
       "#sk-container-id-18 div.sk-estimator.fitted {\n",
       "  /* fitted */\n",
       "  background-color: var(--sklearn-color-fitted-level-0);\n",
       "}\n",
       "\n",
       "/* on hover */\n",
       "#sk-container-id-18 div.sk-estimator:hover {\n",
       "  /* unfitted */\n",
       "  background-color: var(--sklearn-color-unfitted-level-2);\n",
       "}\n",
       "\n",
       "#sk-container-id-18 div.sk-estimator.fitted:hover {\n",
       "  /* fitted */\n",
       "  background-color: var(--sklearn-color-fitted-level-2);\n",
       "}\n",
       "\n",
       "/* Specification for estimator info (e.g. \"i\" and \"?\") */\n",
       "\n",
       "/* Common style for \"i\" and \"?\" */\n",
       "\n",
       ".sk-estimator-doc-link,\n",
       "a:link.sk-estimator-doc-link,\n",
       "a:visited.sk-estimator-doc-link {\n",
       "  float: right;\n",
       "  font-size: smaller;\n",
       "  line-height: 1em;\n",
       "  font-family: monospace;\n",
       "  background-color: var(--sklearn-color-background);\n",
       "  border-radius: 1em;\n",
       "  height: 1em;\n",
       "  width: 1em;\n",
       "  text-decoration: none !important;\n",
       "  margin-left: 1ex;\n",
       "  /* unfitted */\n",
       "  border: var(--sklearn-color-unfitted-level-1) 1pt solid;\n",
       "  color: var(--sklearn-color-unfitted-level-1);\n",
       "}\n",
       "\n",
       ".sk-estimator-doc-link.fitted,\n",
       "a:link.sk-estimator-doc-link.fitted,\n",
       "a:visited.sk-estimator-doc-link.fitted {\n",
       "  /* fitted */\n",
       "  border: var(--sklearn-color-fitted-level-1) 1pt solid;\n",
       "  color: var(--sklearn-color-fitted-level-1);\n",
       "}\n",
       "\n",
       "/* On hover */\n",
       "div.sk-estimator:hover .sk-estimator-doc-link:hover,\n",
       ".sk-estimator-doc-link:hover,\n",
       "div.sk-label-container:hover .sk-estimator-doc-link:hover,\n",
       ".sk-estimator-doc-link:hover {\n",
       "  /* unfitted */\n",
       "  background-color: var(--sklearn-color-unfitted-level-3);\n",
       "  color: var(--sklearn-color-background);\n",
       "  text-decoration: none;\n",
       "}\n",
       "\n",
       "div.sk-estimator.fitted:hover .sk-estimator-doc-link.fitted:hover,\n",
       ".sk-estimator-doc-link.fitted:hover,\n",
       "div.sk-label-container:hover .sk-estimator-doc-link.fitted:hover,\n",
       ".sk-estimator-doc-link.fitted:hover {\n",
       "  /* fitted */\n",
       "  background-color: var(--sklearn-color-fitted-level-3);\n",
       "  color: var(--sklearn-color-background);\n",
       "  text-decoration: none;\n",
       "}\n",
       "\n",
       "/* Span, style for the box shown on hovering the info icon */\n",
       ".sk-estimator-doc-link span {\n",
       "  display: none;\n",
       "  z-index: 9999;\n",
       "  position: relative;\n",
       "  font-weight: normal;\n",
       "  right: .2ex;\n",
       "  padding: .5ex;\n",
       "  margin: .5ex;\n",
       "  width: min-content;\n",
       "  min-width: 20ex;\n",
       "  max-width: 50ex;\n",
       "  color: var(--sklearn-color-text);\n",
       "  box-shadow: 2pt 2pt 4pt #999;\n",
       "  /* unfitted */\n",
       "  background: var(--sklearn-color-unfitted-level-0);\n",
       "  border: .5pt solid var(--sklearn-color-unfitted-level-3);\n",
       "}\n",
       "\n",
       ".sk-estimator-doc-link.fitted span {\n",
       "  /* fitted */\n",
       "  background: var(--sklearn-color-fitted-level-0);\n",
       "  border: var(--sklearn-color-fitted-level-3);\n",
       "}\n",
       "\n",
       ".sk-estimator-doc-link:hover span {\n",
       "  display: block;\n",
       "}\n",
       "\n",
       "/* \"?\"-specific style due to the `<a>` HTML tag */\n",
       "\n",
       "#sk-container-id-18 a.estimator_doc_link {\n",
       "  float: right;\n",
       "  font-size: 1rem;\n",
       "  line-height: 1em;\n",
       "  font-family: monospace;\n",
       "  background-color: var(--sklearn-color-background);\n",
       "  border-radius: 1rem;\n",
       "  height: 1rem;\n",
       "  width: 1rem;\n",
       "  text-decoration: none;\n",
       "  /* unfitted */\n",
       "  color: var(--sklearn-color-unfitted-level-1);\n",
       "  border: var(--sklearn-color-unfitted-level-1) 1pt solid;\n",
       "}\n",
       "\n",
       "#sk-container-id-18 a.estimator_doc_link.fitted {\n",
       "  /* fitted */\n",
       "  border: var(--sklearn-color-fitted-level-1) 1pt solid;\n",
       "  color: var(--sklearn-color-fitted-level-1);\n",
       "}\n",
       "\n",
       "/* On hover */\n",
       "#sk-container-id-18 a.estimator_doc_link:hover {\n",
       "  /* unfitted */\n",
       "  background-color: var(--sklearn-color-unfitted-level-3);\n",
       "  color: var(--sklearn-color-background);\n",
       "  text-decoration: none;\n",
       "}\n",
       "\n",
       "#sk-container-id-18 a.estimator_doc_link.fitted:hover {\n",
       "  /* fitted */\n",
       "  background-color: var(--sklearn-color-fitted-level-3);\n",
       "}\n",
       "</style><div id=\"sk-container-id-18\" class=\"sk-top-container\"><div class=\"sk-text-repr-fallback\"><pre>KMeans(n_clusters=3)</pre><b>In a Jupyter environment, please rerun this cell to show the HTML representation or trust the notebook. <br />On GitHub, the HTML representation is unable to render, please try loading this page with nbviewer.org.</b></div><div class=\"sk-container\" hidden><div class=\"sk-item\"><div class=\"sk-estimator fitted sk-toggleable\"><input class=\"sk-toggleable__control sk-hidden--visually\" id=\"sk-estimator-id-18\" type=\"checkbox\" checked><label for=\"sk-estimator-id-18\" class=\"sk-toggleable__label fitted sk-toggleable__label-arrow fitted\">&nbsp;&nbsp;KMeans<a class=\"sk-estimator-doc-link fitted\" rel=\"noreferrer\" target=\"_blank\" href=\"https://scikit-learn.org/1.5/modules/generated/sklearn.cluster.KMeans.html\">?<span>Documentation for KMeans</span></a><span class=\"sk-estimator-doc-link fitted\">i<span>Fitted</span></span></label><div class=\"sk-toggleable__content fitted\"><pre>KMeans(n_clusters=3)</pre></div> </div></div></div></div>"
      ],
      "text/plain": [
       "KMeans(n_clusters=3)"
      ]
     },
     "execution_count": 151,
     "metadata": {},
     "output_type": "execute_result"
    }
   ],
   "source": [
    "model = KMeans(n_clusters=3)\n",
    "model.fit(scaled_X)"
   ]
  },
  {
   "cell_type": "code",
   "execution_count": 147,
   "metadata": {},
   "outputs": [
    {
     "data": {
      "text/plain": [
       "array([1, 0, 0, 0, 1, 1, 2, 1, 1, 1, 1, 1, 1, 1, 1, 0, 1, 1, 1, 1, 1, 0,\n",
       "       1, 1, 1, 1, 2, 3, 0, 0, 1, 1, 1, 1, 3, 0, 1, 1, 1, 0, 1, 1, 1, 1,\n",
       "       0, 1, 0, 1, 1, 1, 1, 1, 1, 1, 0, 0, 1, 1, 1, 1, 1, 1, 1, 1, 1, 1,\n",
       "       1, 1, 1, 1, 1, 1, 2, 1, 1, 1, 1, 1, 1, 3, 0, 2, 1, 3, 1, 1, 1, 1,\n",
       "       1, 1, 0, 0, 0, 0, 0, 0, 0, 0, 0, 0, 1, 3, 1, 3, 3, 3, 3, 1, 1, 1,\n",
       "       0, 0, 0, 0, 0, 0, 0, 0, 0, 0, 0, 0, 0, 0, 0, 0, 0, 0, 0, 0, 0, 0,\n",
       "       1, 1, 1, 1, 3, 0, 0, 1, 0, 1, 1, 0, 3, 1, 3, 1, 0, 1, 0, 3, 0, 1,\n",
       "       1, 1, 0, 1, 0, 0, 3, 1, 1, 1, 1, 1, 1, 1, 1, 1, 1, 1, 1, 1, 1, 1,\n",
       "       1, 1, 0, 0, 1, 1, 1, 1, 0, 1, 1, 1, 1, 0, 1, 1, 1, 0, 1, 1, 1, 1,\n",
       "       1, 1, 1, 0, 0, 1, 1, 1, 1, 0, 1, 0, 1, 1, 3, 1, 1, 0, 0, 0, 1, 1,\n",
       "       1, 1, 1, 1, 0, 1, 1, 1, 1, 1, 1, 1, 1, 0, 1, 0, 0, 1, 0, 1, 0, 1,\n",
       "       1, 1, 1, 0, 1, 1, 1, 1, 1, 1, 1, 1, 3, 1, 0, 1, 0, 0, 0, 3, 0, 1,\n",
       "       1, 1, 1, 1, 1, 1, 1, 1, 1, 0, 1, 1, 1, 1])"
      ]
     },
     "execution_count": 147,
     "metadata": {},
     "output_type": "execute_result"
    }
   ],
   "source": [
    "model.labels_"
   ]
  },
  {
   "cell_type": "code",
   "execution_count": 154,
   "metadata": {},
   "outputs": [],
   "source": [
    "X['K=3 Clusters'] = model.labels_"
   ]
  },
  {
   "cell_type": "markdown",
   "metadata": {},
   "source": [
    "### Quality of clustering methods."
   ]
  },
  {
   "cell_type": "code",
   "execution_count": 148,
   "metadata": {},
   "outputs": [],
   "source": [
    "from sklearn.metrics import silhouette_score"
   ]
  },
  {
   "cell_type": "code",
   "execution_count": 152,
   "metadata": {},
   "outputs": [
    {
     "name": "stdout",
     "output_type": "stream",
     "text": [
      "Silhouette Score for K-Means: 0.82\n"
     ]
    }
   ],
   "source": [
    "kmeans_silhouette = silhouette_score(scaled_X, model.labels_)\n",
    "print(f\"Silhouette Score for K-Means: {kmeans_silhouette:.2f}\")"
   ]
  },
  {
   "cell_type": "markdown",
   "metadata": {},
   "source": [
    "Silhouette Score for K-Means: 0.82"
   ]
  },
  {
   "cell_type": "code",
   "execution_count": 155,
   "metadata": {},
   "outputs": [
    {
     "data": {
      "text/plain": [
       "K=3 Clusters\n",
       "0    176\n",
       "1     81\n",
       "2     21\n",
       "Name: count, dtype: int64"
      ]
     },
     "execution_count": 155,
     "metadata": {},
     "output_type": "execute_result"
    }
   ],
   "source": [
    "X['K=3 Clusters'].value_counts()"
   ]
  },
  {
   "cell_type": "code",
   "execution_count": 159,
   "metadata": {},
   "outputs": [
    {
     "data": {
      "text/html": [
       "<div>\n",
       "<style scoped>\n",
       "    .dataframe tbody tr th:only-of-type {\n",
       "        vertical-align: middle;\n",
       "    }\n",
       "\n",
       "    .dataframe tbody tr th {\n",
       "        vertical-align: top;\n",
       "    }\n",
       "\n",
       "    .dataframe thead th {\n",
       "        text-align: right;\n",
       "    }\n",
       "</style>\n",
       "<table border=\"1\" class=\"dataframe\">\n",
       "  <thead>\n",
       "    <tr style=\"text-align: right;\">\n",
       "      <th></th>\n",
       "      <th>Recency</th>\n",
       "      <th>Frequency</th>\n",
       "      <th>Monetory_Value</th>\n",
       "      <th>K=3 Clusters</th>\n",
       "    </tr>\n",
       "  </thead>\n",
       "  <tbody>\n",
       "    <tr>\n",
       "      <th>0</th>\n",
       "      <td>610</td>\n",
       "      <td>96</td>\n",
       "      <td>590243.44</td>\n",
       "      <td>0</td>\n",
       "    </tr>\n",
       "    <tr>\n",
       "      <th>1</th>\n",
       "      <td>11</td>\n",
       "      <td>2176</td>\n",
       "      <td>24838773.70</td>\n",
       "      <td>1</td>\n",
       "    </tr>\n",
       "    <tr>\n",
       "      <th>2</th>\n",
       "      <td>0</td>\n",
       "      <td>1984</td>\n",
       "      <td>16601600.72</td>\n",
       "      <td>1</td>\n",
       "    </tr>\n",
       "    <tr>\n",
       "      <th>3</th>\n",
       "      <td>4</td>\n",
       "      <td>1952</td>\n",
       "      <td>20235209.55</td>\n",
       "      <td>1</td>\n",
       "    </tr>\n",
       "    <tr>\n",
       "      <th>4</th>\n",
       "      <td>650</td>\n",
       "      <td>32</td>\n",
       "      <td>52159.86</td>\n",
       "      <td>0</td>\n",
       "    </tr>\n",
       "    <tr>\n",
       "      <th>...</th>\n",
       "      <td>...</td>\n",
       "      <td>...</td>\n",
       "      <td>...</td>\n",
       "      <td>...</td>\n",
       "    </tr>\n",
       "    <tr>\n",
       "      <th>273</th>\n",
       "      <td>37</td>\n",
       "      <td>2048</td>\n",
       "      <td>21611311.22</td>\n",
       "      <td>1</td>\n",
       "    </tr>\n",
       "    <tr>\n",
       "      <th>274</th>\n",
       "      <td>620</td>\n",
       "      <td>64</td>\n",
       "      <td>187915.49</td>\n",
       "      <td>0</td>\n",
       "    </tr>\n",
       "    <tr>\n",
       "      <th>275</th>\n",
       "      <td>628</td>\n",
       "      <td>96</td>\n",
       "      <td>724077.35</td>\n",
       "      <td>0</td>\n",
       "    </tr>\n",
       "    <tr>\n",
       "      <th>276</th>\n",
       "      <td>623</td>\n",
       "      <td>160</td>\n",
       "      <td>1929363.03</td>\n",
       "      <td>0</td>\n",
       "    </tr>\n",
       "    <tr>\n",
       "      <th>277</th>\n",
       "      <td>620</td>\n",
       "      <td>128</td>\n",
       "      <td>1638959.20</td>\n",
       "      <td>0</td>\n",
       "    </tr>\n",
       "  </tbody>\n",
       "</table>\n",
       "<p>278 rows × 4 columns</p>\n",
       "</div>"
      ],
      "text/plain": [
       "     Recency  Frequency  Monetory_Value  K=3 Clusters\n",
       "0        610         96       590243.44             0\n",
       "1         11       2176     24838773.70             1\n",
       "2          0       1984     16601600.72             1\n",
       "3          4       1952     20235209.55             1\n",
       "4        650         32        52159.86             0\n",
       "..       ...        ...             ...           ...\n",
       "273       37       2048     21611311.22             1\n",
       "274      620         64       187915.49             0\n",
       "275      628         96       724077.35             0\n",
       "276      623        160      1929363.03             0\n",
       "277      620        128      1638959.20             0\n",
       "\n",
       "[278 rows x 4 columns]"
      ]
     },
     "execution_count": 159,
     "metadata": {},
     "output_type": "execute_result"
    }
   ],
   "source": [
    "X"
   ]
  },
  {
   "cell_type": "code",
   "execution_count": null,
   "metadata": {},
   "outputs": [],
   "source": []
  },
  {
   "cell_type": "markdown",
   "metadata": {},
   "source": [
    "### Features to influence Clustering "
   ]
  },
  {
   "cell_type": "code",
   "execution_count": 118,
   "metadata": {},
   "outputs": [
    {
     "data": {
      "text/plain": [
       "<Axes: >"
      ]
     },
     "execution_count": 118,
     "metadata": {},
     "output_type": "execute_result"
    },
    {
     "data": {
      "image/png": "[encoded data removed]",
      "text/plain": [
       "<Figure size 1000x400 with 1 Axes>"
      ]
     },
     "metadata": {},
     "output_type": "display_data"
    }
   ],
   "source": [
    "plt.figure(figsize=(10,4))\n",
    "X.corr()['K=3 Clusters'].iloc[:-1].sort_values().plot(kind='bar')"
   ]
  },
  {
   "cell_type": "code",
   "execution_count": 141,
   "metadata": {},
   "outputs": [
    {
     "data": {
      "text/plain": [
       "Recency          -0.811051\n",
       "Frequency         0.849152\n",
       "Monetory_Value    0.868787\n",
       "K=3 Clusters      1.000000\n",
       "Name: K=3 Clusters, dtype: float64"
      ]
     },
     "execution_count": 141,
     "metadata": {},
     "output_type": "execute_result"
    }
   ],
   "source": [
    "X.corr()['K=3 Clusters'].sort_values()"
   ]
  },
  {
   "cell_type": "markdown",
   "metadata": {},
   "source": [
    "In clustering analysis, recency plays a highest weightage, while frequency and monetary value hold nearly equal weightage."
   ]
  },
  {
   "cell_type": "code",
   "execution_count": 156,
   "metadata": {},
   "outputs": [
    {
     "data": {
      "text/plain": [
       "<Axes: xlabel='Recency', ylabel='Monetory_Value'>"
      ]
     },
     "execution_count": 156,
     "metadata": {},
     "output_type": "execute_result"
    },
    {
     "data": {
      "image/png": "[encoded data removed]",
      "text/plain": [
       "<Figure size 640x480 with 1 Axes>"
      ]
     },
     "metadata": {},
     "output_type": "display_data"
    }
   ],
   "source": [
    "sns.scatterplot(data=X, x='Recency', y='Monetory_Value', hue='K=3 Clusters', palette='viridis')\n"
   ]
  },
  {
   "cell_type": "code",
   "execution_count": 127,
   "metadata": {},
   "outputs": [
    {
     "data": {
      "text/plain": [
       "<Axes: xlabel='Frequency', ylabel='Monetory_Value'>"
      ]
     },
     "execution_count": 127,
     "metadata": {},
     "output_type": "execute_result"
    },
    {
     "data": {
      "image/png": "[encoded data removed]",
      "text/plain": [
       "<Figure size 640x480 with 1 Axes>"
      ]
     },
     "metadata": {},
     "output_type": "display_data"
    }
   ],
   "source": [
    "sns.scatterplot(data=X, x='Frequency', y='Monetory_Value', hue='K=3 Clusters', palette='dark')\n"
   ]
  },
  {
   "cell_type": "markdown",
   "metadata": {},
   "source": [
    "## Apply DBSCAN Clustering"
   ]
  },
  {
   "cell_type": "code",
   "execution_count": 60,
   "metadata": {},
   "outputs": [],
   "source": [
    "scaled_df = pd.DataFrame(scaled_X, columns=['Recency', 'Frequency', 'Monetory_Value'])"
   ]
  },
  {
   "cell_type": "code",
   "execution_count": 68,
   "metadata": {},
   "outputs": [
    {
     "data": {
      "text/html": [
       "<div>\n",
       "<style scoped>\n",
       "    .dataframe tbody tr th:only-of-type {\n",
       "        vertical-align: middle;\n",
       "    }\n",
       "\n",
       "    .dataframe tbody tr th {\n",
       "        vertical-align: top;\n",
       "    }\n",
       "\n",
       "    .dataframe thead th {\n",
       "        text-align: right;\n",
       "    }\n",
       "</style>\n",
       "<table border=\"1\" class=\"dataframe\">\n",
       "  <thead>\n",
       "    <tr style=\"text-align: right;\">\n",
       "      <th></th>\n",
       "      <th>Recency</th>\n",
       "      <th>Frequency</th>\n",
       "      <th>Monetory_Value</th>\n",
       "    </tr>\n",
       "  </thead>\n",
       "  <tbody>\n",
       "    <tr>\n",
       "      <th>0</th>\n",
       "      <td>0.747314</td>\n",
       "      <td>-0.482782</td>\n",
       "      <td>-0.573105</td>\n",
       "    </tr>\n",
       "    <tr>\n",
       "      <th>1</th>\n",
       "      <td>-1.327170</td>\n",
       "      <td>0.333486</td>\n",
       "      <td>0.665970</td>\n",
       "    </tr>\n",
       "    <tr>\n",
       "      <th>2</th>\n",
       "      <td>-1.365266</td>\n",
       "      <td>0.258139</td>\n",
       "      <td>0.245059</td>\n",
       "    </tr>\n",
       "    <tr>\n",
       "      <th>3</th>\n",
       "      <td>-1.351413</td>\n",
       "      <td>0.245581</td>\n",
       "      <td>0.430733</td>\n",
       "    </tr>\n",
       "    <tr>\n",
       "      <th>4</th>\n",
       "      <td>0.885843</td>\n",
       "      <td>-0.507898</td>\n",
       "      <td>-0.600600</td>\n",
       "    </tr>\n",
       "  </tbody>\n",
       "</table>\n",
       "</div>"
      ],
      "text/plain": [
       "    Recency  Frequency  Monetory_Value\n",
       "0  0.747314  -0.482782       -0.573105\n",
       "1 -1.327170   0.333486        0.665970\n",
       "2 -1.365266   0.258139        0.245059\n",
       "3 -1.351413   0.245581        0.430733\n",
       "4  0.885843  -0.507898       -0.600600"
      ]
     },
     "execution_count": 68,
     "metadata": {},
     "output_type": "execute_result"
    }
   ],
   "source": [
    "scaled_df.head()"
   ]
  },
  {
   "cell_type": "code",
   "execution_count": 69,
   "metadata": {},
   "outputs": [],
   "source": [
    "from sklearn.cluster import DBSCAN"
   ]
  },
  {
   "cell_type": "code",
   "execution_count": 70,
   "metadata": {},
   "outputs": [],
   "source": [
    "outlier_percent = []\n",
    "\n",
    "for eps in np.linspace(0.001,3,50):\n",
    "    \n",
    "    # Create Model\n",
    "    dbscan = DBSCAN(eps=eps,min_samples=2*scaled_X.shape[1])\n",
    "    dbscan.fit(scaled_X)\n",
    "   \n",
    "     \n",
    "    # Log percentage of points that are outliers\n",
    "    perc_outliers = 100 * np.sum(dbscan.labels_ == -1) / len(dbscan.labels_)\n",
    "    \n",
    "    outlier_percent.append(perc_outliers)"
   ]
  },
  {
   "cell_type": "code",
   "execution_count": 73,
   "metadata": {},
   "outputs": [
    {
     "data": {
      "text/plain": [
       "Text(0.5, 0, 'Epsilon Value')"
      ]
     },
     "execution_count": 73,
     "metadata": {},
     "output_type": "execute_result"
    },
    {
     "data": {
      "image/png": "[encoded data removed]",
      "text/plain": [
       "<Figure size 640x480 with 1 Axes>"
      ]
     },
     "metadata": {},
     "output_type": "display_data"
    }
   ],
   "source": [
    "sns.lineplot(x=np.linspace(0.001,3,50),y=outlier_percent)\n",
    "plt.ylabel(\"Percentage of Points Classified as Outliers\")\n",
    "plt.xlabel(\"Epsilon Value\")"
   ]
  },
  {
   "cell_type": "markdown",
   "metadata": {},
   "source": [
    "Reasonable Epsilon value is 0.5"
   ]
  },
  {
   "cell_type": "code",
   "execution_count": 130,
   "metadata": {},
   "outputs": [
    {
     "data": {
      "text/html": [
       "<style>#sk-container-id-13 {\n",
       "  /* Definition of color scheme common for light and dark mode */\n",
       "  --sklearn-color-text: black;\n",
       "  --sklearn-color-line: gray;\n",
       "  /* Definition of color scheme for unfitted estimators */\n",
       "  --sklearn-color-unfitted-level-0: #fff5e6;\n",
       "  --sklearn-color-unfitted-level-1: #f6e4d2;\n",
       "  --sklearn-color-unfitted-level-2: #ffe0b3;\n",
       "  --sklearn-color-unfitted-level-3: chocolate;\n",
       "  /* Definition of color scheme for fitted estimators */\n",
       "  --sklearn-color-fitted-level-0: #f0f8ff;\n",
       "  --sklearn-color-fitted-level-1: #d4ebff;\n",
       "  --sklearn-color-fitted-level-2: #b3dbfd;\n",
       "  --sklearn-color-fitted-level-3: cornflowerblue;\n",
       "\n",
       "  /* Specific color for light theme */\n",
       "  --sklearn-color-text-on-default-background: var(--sg-text-color, var(--theme-code-foreground, var(--jp-content-font-color1, black)));\n",
       "  --sklearn-color-background: var(--sg-background-color, var(--theme-background, var(--jp-layout-color0, white)));\n",
       "  --sklearn-color-border-box: var(--sg-text-color, var(--theme-code-foreground, var(--jp-content-font-color1, black)));\n",
       "  --sklearn-color-icon: #696969;\n",
       "\n",
       "  @media (prefers-color-scheme: dark) {\n",
       "    /* Redefinition of color scheme for dark theme */\n",
       "    --sklearn-color-text-on-default-background: var(--sg-text-color, var(--theme-code-foreground, var(--jp-content-font-color1, white)));\n",
       "    --sklearn-color-background: var(--sg-background-color, var(--theme-background, var(--jp-layout-color0, #111)));\n",
       "    --sklearn-color-border-box: var(--sg-text-color, var(--theme-code-foreground, var(--jp-content-font-color1, white)));\n",
       "    --sklearn-color-icon: #878787;\n",
       "  }\n",
       "}\n",
       "\n",
       "#sk-container-id-13 {\n",
       "  color: var(--sklearn-color-text);\n",
       "}\n",
       "\n",
       "#sk-container-id-13 pre {\n",
       "  padding: 0;\n",
       "}\n",
       "\n",
       "#sk-container-id-13 input.sk-hidden--visually {\n",
       "  border: 0;\n",
       "  clip: rect(1px 1px 1px 1px);\n",
       "  clip: rect(1px, 1px, 1px, 1px);\n",
       "  height: 1px;\n",
       "  margin: -1px;\n",
       "  overflow: hidden;\n",
       "  padding: 0;\n",
       "  position: absolute;\n",
       "  width: 1px;\n",
       "}\n",
       "\n",
       "#sk-container-id-13 div.sk-dashed-wrapped {\n",
       "  border: 1px dashed var(--sklearn-color-line);\n",
       "  margin: 0 0.4em 0.5em 0.4em;\n",
       "  box-sizing: border-box;\n",
       "  padding-bottom: 0.4em;\n",
       "  background-color: var(--sklearn-color-background);\n",
       "}\n",
       "\n",
       "#sk-container-id-13 div.sk-container {\n",
       "  /* jupyter's `normalize.less` sets `[hidden] { display: none; }`\n",
       "     but bootstrap.min.css set `[hidden] { display: none !important; }`\n",
       "     so we also need the `!important` here to be able to override the\n",
       "     default hidden behavior on the sphinx rendered scikit-learn.org.\n",
       "     See: https://github.com/scikit-learn/scikit-learn/issues/21755 */\n",
       "  display: inline-block !important;\n",
       "  position: relative;\n",
       "}\n",
       "\n",
       "#sk-container-id-13 div.sk-text-repr-fallback {\n",
       "  display: none;\n",
       "}\n",
       "\n",
       "div.sk-parallel-item,\n",
       "div.sk-serial,\n",
       "div.sk-item {\n",
       "  /* draw centered vertical line to link estimators */\n",
       "  background-image: linear-gradient(var(--sklearn-color-text-on-default-background), var(--sklearn-color-text-on-default-background));\n",
       "  background-size: 2px 100%;\n",
       "  background-repeat: no-repeat;\n",
       "  background-position: center center;\n",
       "}\n",
       "\n",
       "/* Parallel-specific style estimator block */\n",
       "\n",
       "#sk-container-id-13 div.sk-parallel-item::after {\n",
       "  content: \"\";\n",
       "  width: 100%;\n",
       "  border-bottom: 2px solid var(--sklearn-color-text-on-default-background);\n",
       "  flex-grow: 1;\n",
       "}\n",
       "\n",
       "#sk-container-id-13 div.sk-parallel {\n",
       "  display: flex;\n",
       "  align-items: stretch;\n",
       "  justify-content: center;\n",
       "  background-color: var(--sklearn-color-background);\n",
       "  position: relative;\n",
       "}\n",
       "\n",
       "#sk-container-id-13 div.sk-parallel-item {\n",
       "  display: flex;\n",
       "  flex-direction: column;\n",
       "}\n",
       "\n",
       "#sk-container-id-13 div.sk-parallel-item:first-child::after {\n",
       "  align-self: flex-end;\n",
       "  width: 50%;\n",
       "}\n",
       "\n",
       "#sk-container-id-13 div.sk-parallel-item:last-child::after {\n",
       "  align-self: flex-start;\n",
       "  width: 50%;\n",
       "}\n",
       "\n",
       "#sk-container-id-13 div.sk-parallel-item:only-child::after {\n",
       "  width: 0;\n",
       "}\n",
       "\n",
       "/* Serial-specific style estimator block */\n",
       "\n",
       "#sk-container-id-13 div.sk-serial {\n",
       "  display: flex;\n",
       "  flex-direction: column;\n",
       "  align-items: center;\n",
       "  background-color: var(--sklearn-color-background);\n",
       "  padding-right: 1em;\n",
       "  padding-left: 1em;\n",
       "}\n",
       "\n",
       "\n",
       "/* Toggleable style: style used for estimator/Pipeline/ColumnTransformer box that is\n",
       "clickable and can be expanded/collapsed.\n",
       "- Pipeline and ColumnTransformer use this feature and define the default style\n",
       "- Estimators will overwrite some part of the style using the `sk-estimator` class\n",
       "*/\n",
       "\n",
       "/* Pipeline and ColumnTransformer style (default) */\n",
       "\n",
       "#sk-container-id-13 div.sk-toggleable {\n",
       "  /* Default theme specific background. It is overwritten whether we have a\n",
       "  specific estimator or a Pipeline/ColumnTransformer */\n",
       "  background-color: var(--sklearn-color-background);\n",
       "}\n",
       "\n",
       "/* Toggleable label */\n",
       "#sk-container-id-13 label.sk-toggleable__label {\n",
       "  cursor: pointer;\n",
       "  display: block;\n",
       "  width: 100%;\n",
       "  margin-bottom: 0;\n",
       "  padding: 0.5em;\n",
       "  box-sizing: border-box;\n",
       "  text-align: center;\n",
       "}\n",
       "\n",
       "#sk-container-id-13 label.sk-toggleable__label-arrow:before {\n",
       "  /* Arrow on the left of the label */\n",
       "  content: \"▸\";\n",
       "  float: left;\n",
       "  margin-right: 0.25em;\n",
       "  color: var(--sklearn-color-icon);\n",
       "}\n",
       "\n",
       "#sk-container-id-13 label.sk-toggleable__label-arrow:hover:before {\n",
       "  color: var(--sklearn-color-text);\n",
       "}\n",
       "\n",
       "/* Toggleable content - dropdown */\n",
       "\n",
       "#sk-container-id-13 div.sk-toggleable__content {\n",
       "  max-height: 0;\n",
       "  max-width: 0;\n",
       "  overflow: hidden;\n",
       "  text-align: left;\n",
       "  /* unfitted */\n",
       "  background-color: var(--sklearn-color-unfitted-level-0);\n",
       "}\n",
       "\n",
       "#sk-container-id-13 div.sk-toggleable__content.fitted {\n",
       "  /* fitted */\n",
       "  background-color: var(--sklearn-color-fitted-level-0);\n",
       "}\n",
       "\n",
       "#sk-container-id-13 div.sk-toggleable__content pre {\n",
       "  margin: 0.2em;\n",
       "  border-radius: 0.25em;\n",
       "  color: var(--sklearn-color-text);\n",
       "  /* unfitted */\n",
       "  background-color: var(--sklearn-color-unfitted-level-0);\n",
       "}\n",
       "\n",
       "#sk-container-id-13 div.sk-toggleable__content.fitted pre {\n",
       "  /* unfitted */\n",
       "  background-color: var(--sklearn-color-fitted-level-0);\n",
       "}\n",
       "\n",
       "#sk-container-id-13 input.sk-toggleable__control:checked~div.sk-toggleable__content {\n",
       "  /* Expand drop-down */\n",
       "  max-height: 200px;\n",
       "  max-width: 100%;\n",
       "  overflow: auto;\n",
       "}\n",
       "\n",
       "#sk-container-id-13 input.sk-toggleable__control:checked~label.sk-toggleable__label-arrow:before {\n",
       "  content: \"▾\";\n",
       "}\n",
       "\n",
       "/* Pipeline/ColumnTransformer-specific style */\n",
       "\n",
       "#sk-container-id-13 div.sk-label input.sk-toggleable__control:checked~label.sk-toggleable__label {\n",
       "  color: var(--sklearn-color-text);\n",
       "  background-color: var(--sklearn-color-unfitted-level-2);\n",
       "}\n",
       "\n",
       "#sk-container-id-13 div.sk-label.fitted input.sk-toggleable__control:checked~label.sk-toggleable__label {\n",
       "  background-color: var(--sklearn-color-fitted-level-2);\n",
       "}\n",
       "\n",
       "/* Estimator-specific style */\n",
       "\n",
       "/* Colorize estimator box */\n",
       "#sk-container-id-13 div.sk-estimator input.sk-toggleable__control:checked~label.sk-toggleable__label {\n",
       "  /* unfitted */\n",
       "  background-color: var(--sklearn-color-unfitted-level-2);\n",
       "}\n",
       "\n",
       "#sk-container-id-13 div.sk-estimator.fitted input.sk-toggleable__control:checked~label.sk-toggleable__label {\n",
       "  /* fitted */\n",
       "  background-color: var(--sklearn-color-fitted-level-2);\n",
       "}\n",
       "\n",
       "#sk-container-id-13 div.sk-label label.sk-toggleable__label,\n",
       "#sk-container-id-13 div.sk-label label {\n",
       "  /* The background is the default theme color */\n",
       "  color: var(--sklearn-color-text-on-default-background);\n",
       "}\n",
       "\n",
       "/* On hover, darken the color of the background */\n",
       "#sk-container-id-13 div.sk-label:hover label.sk-toggleable__label {\n",
       "  color: var(--sklearn-color-text);\n",
       "  background-color: var(--sklearn-color-unfitted-level-2);\n",
       "}\n",
       "\n",
       "/* Label box, darken color on hover, fitted */\n",
       "#sk-container-id-13 div.sk-label.fitted:hover label.sk-toggleable__label.fitted {\n",
       "  color: var(--sklearn-color-text);\n",
       "  background-color: var(--sklearn-color-fitted-level-2);\n",
       "}\n",
       "\n",
       "/* Estimator label */\n",
       "\n",
       "#sk-container-id-13 div.sk-label label {\n",
       "  font-family: monospace;\n",
       "  font-weight: bold;\n",
       "  display: inline-block;\n",
       "  line-height: 1.2em;\n",
       "}\n",
       "\n",
       "#sk-container-id-13 div.sk-label-container {\n",
       "  text-align: center;\n",
       "}\n",
       "\n",
       "/* Estimator-specific */\n",
       "#sk-container-id-13 div.sk-estimator {\n",
       "  font-family: monospace;\n",
       "  border: 1px dotted var(--sklearn-color-border-box);\n",
       "  border-radius: 0.25em;\n",
       "  box-sizing: border-box;\n",
       "  margin-bottom: 0.5em;\n",
       "  /* unfitted */\n",
       "  background-color: var(--sklearn-color-unfitted-level-0);\n",
       "}\n",
       "\n",
       "#sk-container-id-13 div.sk-estimator.fitted {\n",
       "  /* fitted */\n",
       "  background-color: var(--sklearn-color-fitted-level-0);\n",
       "}\n",
       "\n",
       "/* on hover */\n",
       "#sk-container-id-13 div.sk-estimator:hover {\n",
       "  /* unfitted */\n",
       "  background-color: var(--sklearn-color-unfitted-level-2);\n",
       "}\n",
       "\n",
       "#sk-container-id-13 div.sk-estimator.fitted:hover {\n",
       "  /* fitted */\n",
       "  background-color: var(--sklearn-color-fitted-level-2);\n",
       "}\n",
       "\n",
       "/* Specification for estimator info (e.g. \"i\" and \"?\") */\n",
       "\n",
       "/* Common style for \"i\" and \"?\" */\n",
       "\n",
       ".sk-estimator-doc-link,\n",
       "a:link.sk-estimator-doc-link,\n",
       "a:visited.sk-estimator-doc-link {\n",
       "  float: right;\n",
       "  font-size: smaller;\n",
       "  line-height: 1em;\n",
       "  font-family: monospace;\n",
       "  background-color: var(--sklearn-color-background);\n",
       "  border-radius: 1em;\n",
       "  height: 1em;\n",
       "  width: 1em;\n",
       "  text-decoration: none !important;\n",
       "  margin-left: 1ex;\n",
       "  /* unfitted */\n",
       "  border: var(--sklearn-color-unfitted-level-1) 1pt solid;\n",
       "  color: var(--sklearn-color-unfitted-level-1);\n",
       "}\n",
       "\n",
       ".sk-estimator-doc-link.fitted,\n",
       "a:link.sk-estimator-doc-link.fitted,\n",
       "a:visited.sk-estimator-doc-link.fitted {\n",
       "  /* fitted */\n",
       "  border: var(--sklearn-color-fitted-level-1) 1pt solid;\n",
       "  color: var(--sklearn-color-fitted-level-1);\n",
       "}\n",
       "\n",
       "/* On hover */\n",
       "div.sk-estimator:hover .sk-estimator-doc-link:hover,\n",
       ".sk-estimator-doc-link:hover,\n",
       "div.sk-label-container:hover .sk-estimator-doc-link:hover,\n",
       ".sk-estimator-doc-link:hover {\n",
       "  /* unfitted */\n",
       "  background-color: var(--sklearn-color-unfitted-level-3);\n",
       "  color: var(--sklearn-color-background);\n",
       "  text-decoration: none;\n",
       "}\n",
       "\n",
       "div.sk-estimator.fitted:hover .sk-estimator-doc-link.fitted:hover,\n",
       ".sk-estimator-doc-link.fitted:hover,\n",
       "div.sk-label-container:hover .sk-estimator-doc-link.fitted:hover,\n",
       ".sk-estimator-doc-link.fitted:hover {\n",
       "  /* fitted */\n",
       "  background-color: var(--sklearn-color-fitted-level-3);\n",
       "  color: var(--sklearn-color-background);\n",
       "  text-decoration: none;\n",
       "}\n",
       "\n",
       "/* Span, style for the box shown on hovering the info icon */\n",
       ".sk-estimator-doc-link span {\n",
       "  display: none;\n",
       "  z-index: 9999;\n",
       "  position: relative;\n",
       "  font-weight: normal;\n",
       "  right: .2ex;\n",
       "  padding: .5ex;\n",
       "  margin: .5ex;\n",
       "  width: min-content;\n",
       "  min-width: 20ex;\n",
       "  max-width: 50ex;\n",
       "  color: var(--sklearn-color-text);\n",
       "  box-shadow: 2pt 2pt 4pt #999;\n",
       "  /* unfitted */\n",
       "  background: var(--sklearn-color-unfitted-level-0);\n",
       "  border: .5pt solid var(--sklearn-color-unfitted-level-3);\n",
       "}\n",
       "\n",
       ".sk-estimator-doc-link.fitted span {\n",
       "  /* fitted */\n",
       "  background: var(--sklearn-color-fitted-level-0);\n",
       "  border: var(--sklearn-color-fitted-level-3);\n",
       "}\n",
       "\n",
       ".sk-estimator-doc-link:hover span {\n",
       "  display: block;\n",
       "}\n",
       "\n",
       "/* \"?\"-specific style due to the `<a>` HTML tag */\n",
       "\n",
       "#sk-container-id-13 a.estimator_doc_link {\n",
       "  float: right;\n",
       "  font-size: 1rem;\n",
       "  line-height: 1em;\n",
       "  font-family: monospace;\n",
       "  background-color: var(--sklearn-color-background);\n",
       "  border-radius: 1rem;\n",
       "  height: 1rem;\n",
       "  width: 1rem;\n",
       "  text-decoration: none;\n",
       "  /* unfitted */\n",
       "  color: var(--sklearn-color-unfitted-level-1);\n",
       "  border: var(--sklearn-color-unfitted-level-1) 1pt solid;\n",
       "}\n",
       "\n",
       "#sk-container-id-13 a.estimator_doc_link.fitted {\n",
       "  /* fitted */\n",
       "  border: var(--sklearn-color-fitted-level-1) 1pt solid;\n",
       "  color: var(--sklearn-color-fitted-level-1);\n",
       "}\n",
       "\n",
       "/* On hover */\n",
       "#sk-container-id-13 a.estimator_doc_link:hover {\n",
       "  /* unfitted */\n",
       "  background-color: var(--sklearn-color-unfitted-level-3);\n",
       "  color: var(--sklearn-color-background);\n",
       "  text-decoration: none;\n",
       "}\n",
       "\n",
       "#sk-container-id-13 a.estimator_doc_link.fitted:hover {\n",
       "  /* fitted */\n",
       "  background-color: var(--sklearn-color-fitted-level-3);\n",
       "}\n",
       "</style><div id=\"sk-container-id-13\" class=\"sk-top-container\"><div class=\"sk-text-repr-fallback\"><pre>DBSCAN()</pre><b>In a Jupyter environment, please rerun this cell to show the HTML representation or trust the notebook. <br />On GitHub, the HTML representation is unable to render, please try loading this page with nbviewer.org.</b></div><div class=\"sk-container\" hidden><div class=\"sk-item\"><div class=\"sk-estimator fitted sk-toggleable\"><input class=\"sk-toggleable__control sk-hidden--visually\" id=\"sk-estimator-id-13\" type=\"checkbox\" checked><label for=\"sk-estimator-id-13\" class=\"sk-toggleable__label fitted sk-toggleable__label-arrow fitted\">&nbsp;&nbsp;DBSCAN<a class=\"sk-estimator-doc-link fitted\" rel=\"noreferrer\" target=\"_blank\" href=\"https://scikit-learn.org/1.5/modules/generated/sklearn.cluster.DBSCAN.html\">?<span>Documentation for DBSCAN</span></a><span class=\"sk-estimator-doc-link fitted\">i<span>Fitted</span></span></label><div class=\"sk-toggleable__content fitted\"><pre>DBSCAN()</pre></div> </div></div></div></div>"
      ],
      "text/plain": [
       "DBSCAN()"
      ]
     },
     "execution_count": 130,
     "metadata": {},
     "output_type": "execute_result"
    }
   ],
   "source": [
    "dbscan = DBSCAN(eps=0.5)\n",
    "dbscan.fit(scaled_X)"
   ]
  },
  {
   "cell_type": "code",
   "execution_count": 98,
   "metadata": {},
   "outputs": [
    {
     "data": {
      "text/plain": [
       "<Axes: xlabel='Frequency', ylabel='Monetory_Value'>"
      ]
     },
     "execution_count": 98,
     "metadata": {},
     "output_type": "execute_result"
    },
    {
     "data": {
      "image/png": "[encoded data removed]",
      "text/plain": [
       "<Figure size 640x480 with 1 Axes>"
      ]
     },
     "metadata": {},
     "output_type": "display_data"
    }
   ],
   "source": [
    "sns.scatterplot(data=X, x='Frequency', y='Monetory_Value', palette='viridis', hue=dbscan.labels_)\n"
   ]
  },
  {
   "cell_type": "code",
   "execution_count": 97,
   "metadata": {},
   "outputs": [
    {
     "data": {
      "text/plain": [
       "<Axes: xlabel='Recency', ylabel='Monetory_Value'>"
      ]
     },
     "execution_count": 97,
     "metadata": {},
     "output_type": "execute_result"
    },
    {
     "data": {
      "image/png": "[encoded data removed]",
      "text/plain": [
       "<Figure size 640x480 with 1 Axes>"
      ]
     },
     "metadata": {},
     "output_type": "display_data"
    }
   ],
   "source": [
    "sns.scatterplot(data=X, x='Recency', y='Monetory_Value', hue=dbscan.labels_, palette='viridis')\n",
    "\n"
   ]
  },
  {
   "cell_type": "code",
   "execution_count": 93,
   "metadata": {},
   "outputs": [],
   "source": [
    "RFM_data_dbscan = RFM_data.copy()"
   ]
  },
  {
   "cell_type": "code",
   "execution_count": 131,
   "metadata": {},
   "outputs": [],
   "source": [
    "RFM_data_dbscan['Labels'] = dbscan.labels_"
   ]
  },
  {
   "cell_type": "code",
   "execution_count": 101,
   "metadata": {},
   "outputs": [
    {
     "data": {
      "text/plain": [
       "Labels\n",
       " 0    63.309353\n",
       " 1    29.136691\n",
       " 2     4.316547\n",
       "-1     3.237410\n",
       "Name: proportion, dtype: float64"
      ]
     },
     "execution_count": 101,
     "metadata": {},
     "output_type": "execute_result"
    }
   ],
   "source": [
    "round(RFM_data_dbscan['Labels'].value_counts(normalize=True)*100)"
   ]
  },
  {
   "cell_type": "code",
   "execution_count": 103,
   "metadata": {},
   "outputs": [],
   "source": [
    "label_0 = RFM_data_dbscan['Labels'] == 0\n",
    "label_1 = RFM_data_dbscan['Labels'] == -1"
   ]
  },
  {
   "cell_type": "code",
   "execution_count": 105,
   "metadata": {},
   "outputs": [
    {
     "data": {
      "text/html": [
       "<div>\n",
       "<style scoped>\n",
       "    .dataframe tbody tr th:only-of-type {\n",
       "        vertical-align: middle;\n",
       "    }\n",
       "\n",
       "    .dataframe tbody tr th {\n",
       "        vertical-align: top;\n",
       "    }\n",
       "\n",
       "    .dataframe thead th {\n",
       "        text-align: right;\n",
       "    }\n",
       "</style>\n",
       "<table border=\"1\" class=\"dataframe\">\n",
       "  <thead>\n",
       "    <tr style=\"text-align: right;\">\n",
       "      <th></th>\n",
       "      <th>Name</th>\n",
       "      <th>Recency</th>\n",
       "      <th>Frequency</th>\n",
       "      <th>Monetory_Value</th>\n",
       "      <th>Labels</th>\n",
       "    </tr>\n",
       "  </thead>\n",
       "  <tbody>\n",
       "    <tr>\n",
       "      <th>0</th>\n",
       "      <td>Electra Amsterdam Fashion 3i Ladies' - 2006/2007</td>\n",
       "      <td>610</td>\n",
       "      <td>96</td>\n",
       "      <td>590243.44</td>\n",
       "      <td>0</td>\n",
       "    </tr>\n",
       "    <tr>\n",
       "      <th>4</th>\n",
       "      <td>Electra Amsterdam Royal 8i - 2006/2007</td>\n",
       "      <td>650</td>\n",
       "      <td>32</td>\n",
       "      <td>52159.86</td>\n",
       "      <td>0</td>\n",
       "    </tr>\n",
       "    <tr>\n",
       "      <th>5</th>\n",
       "      <td>Electra Amsterdam Royal 8i Ladies - 2007</td>\n",
       "      <td>629</td>\n",
       "      <td>64</td>\n",
       "      <td>881851.58</td>\n",
       "      <td>0</td>\n",
       "    </tr>\n",
       "    <tr>\n",
       "      <th>6</th>\n",
       "      <td>Electra Cruiser 1 (24-Inch) - 2005</td>\n",
       "      <td>43</td>\n",
       "      <td>15856</td>\n",
       "      <td>90041312.58</td>\n",
       "      <td>-1</td>\n",
       "    </tr>\n",
       "    <tr>\n",
       "      <th>7</th>\n",
       "      <td>Electra Cruiser 1 - 2005/2006/2007</td>\n",
       "      <td>398</td>\n",
       "      <td>128</td>\n",
       "      <td>695342.68</td>\n",
       "      <td>0</td>\n",
       "    </tr>\n",
       "    <tr>\n",
       "      <th>...</th>\n",
       "      <td>...</td>\n",
       "      <td>...</td>\n",
       "      <td>...</td>\n",
       "      <td>...</td>\n",
       "      <td>...</td>\n",
       "    </tr>\n",
       "    <tr>\n",
       "      <th>272</th>\n",
       "      <td>Trek X-Caliber 7 - 2007</td>\n",
       "      <td>617</td>\n",
       "      <td>96</td>\n",
       "      <td>841102.92</td>\n",
       "      <td>0</td>\n",
       "    </tr>\n",
       "    <tr>\n",
       "      <th>274</th>\n",
       "      <td>Trek X-Caliber 8 - 2007</td>\n",
       "      <td>620</td>\n",
       "      <td>64</td>\n",
       "      <td>187915.49</td>\n",
       "      <td>0</td>\n",
       "    </tr>\n",
       "    <tr>\n",
       "      <th>275</th>\n",
       "      <td>Trek X-Caliber Frameset - 2007</td>\n",
       "      <td>628</td>\n",
       "      <td>96</td>\n",
       "      <td>724077.35</td>\n",
       "      <td>0</td>\n",
       "    </tr>\n",
       "    <tr>\n",
       "      <th>276</th>\n",
       "      <td>Trek XM700+ - 2007</td>\n",
       "      <td>623</td>\n",
       "      <td>160</td>\n",
       "      <td>1929363.03</td>\n",
       "      <td>0</td>\n",
       "    </tr>\n",
       "    <tr>\n",
       "      <th>277</th>\n",
       "      <td>Trek XM700+ Lowstep - 2007</td>\n",
       "      <td>620</td>\n",
       "      <td>128</td>\n",
       "      <td>1638959.20</td>\n",
       "      <td>0</td>\n",
       "    </tr>\n",
       "  </tbody>\n",
       "</table>\n",
       "<p>185 rows × 5 columns</p>\n",
       "</div>"
      ],
      "text/plain": [
       "                                                 Name  Recency  Frequency  \\\n",
       "0    Electra Amsterdam Fashion 3i Ladies' - 2006/2007      610         96   \n",
       "4              Electra Amsterdam Royal 8i - 2006/2007      650         32   \n",
       "5            Electra Amsterdam Royal 8i Ladies - 2007      629         64   \n",
       "6                  Electra Cruiser 1 (24-Inch) - 2005       43      15856   \n",
       "7                  Electra Cruiser 1 - 2005/2006/2007      398        128   \n",
       "..                                                ...      ...        ...   \n",
       "272                           Trek X-Caliber 7 - 2007      617         96   \n",
       "274                           Trek X-Caliber 8 - 2007      620         64   \n",
       "275                    Trek X-Caliber Frameset - 2007      628         96   \n",
       "276                                Trek XM700+ - 2007      623        160   \n",
       "277                        Trek XM700+ Lowstep - 2007      620        128   \n",
       "\n",
       "     Monetory_Value  Labels  \n",
       "0         590243.44       0  \n",
       "4          52159.86       0  \n",
       "5         881851.58       0  \n",
       "6       90041312.58      -1  \n",
       "7         695342.68       0  \n",
       "..              ...     ...  \n",
       "272       841102.92       0  \n",
       "274       187915.49       0  \n",
       "275       724077.35       0  \n",
       "276      1929363.03       0  \n",
       "277      1638959.20       0  \n",
       "\n",
       "[185 rows x 5 columns]"
      ]
     },
     "execution_count": 105,
     "metadata": {},
     "output_type": "execute_result"
    }
   ],
   "source": [
    "RFM_data_dbscan.loc[label_0 | label_1]"
   ]
  },
  {
   "cell_type": "code",
   "execution_count": 132,
   "metadata": {},
   "outputs": [
    {
     "name": "stdout",
     "output_type": "stream",
     "text": [
      "Silhouette Score for DBSCAN: 0.73\n"
     ]
    }
   ],
   "source": [
    "# Silhouette score for DBSCAN\n",
    "# Note: Silhouette score can only be computed if there are at least 2 clusters.\n",
    "if len(set(dbscan.labels_)) > 1:\n",
    "    dbscan_silhouette = silhouette_score(X, dbscan.labels_)\n",
    "    print(f\"Silhouette Score for DBSCAN: {dbscan_silhouette:.2f}\")\n",
    "else:\n",
    "    print(\"Silhouette Score for DBSCAN cannot be calculated (only one cluster found).\")"
   ]
  },
  {
   "cell_type": "code",
   "execution_count": null,
   "metadata": {},
   "outputs": [],
   "source": []
  }
 ],
 "metadata": {
  "kernelspec": {
   "display_name": "base",
   "language": "python",
   "name": "python3"
  },
  "language_info": {
   "codemirror_mode": {
    "name": "ipython",
    "version": 3
   },
   "file_extension": ".py",
   "mimetype": "text/x-python",
   "name": "python",
   "nbconvert_exporter": "python",
   "pygments_lexer": "ipython3",
   "version": "3.11.5"
  }
 },
 "nbformat": 4,
 "nbformat_minor": 2
}
